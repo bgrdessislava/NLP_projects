{
 "cells": [
  {
   "cell_type": "code",
   "execution_count": null,
   "id": "b167cf79",
   "metadata": {},
   "outputs": [],
   "source": [
    "import urllib3\n",
    "import requests\n",
    "import itertools\n",
    "import pandas as pd\n",
    "from bs4 import BeautifulSoup\n",
    "\n",
    "urllib3.disable_warnings() # Fix the warnings!"
   ]
  },
  {
   "cell_type": "code",
   "execution_count": null,
   "id": "73c7aa9d",
   "metadata": {},
   "outputs": [],
   "source": [
    "base = 'https://scholarshipdb.net/PhD-scholarships'"
   ]
  },
  {
   "cell_type": "code",
   "execution_count": null,
   "id": "f786d0c3",
   "metadata": {},
   "outputs": [],
   "source": [
    "html_text = requests.get(base, verify=False)\n",
    "soup = BeautifulSoup(html_text.text, 'html.parser')\n",
    "\n",
    "countries_all = []\n",
    "fields = []\n",
    "programmes = ([\n",
    "    'PhD', 'Postdoctoral', 'Fellowship', 'Postgraduate', \n",
    "    'Master', 'Undergraduate', 'Coursework'\n",
    "])\n",
    "for link in soup.find_all('a'):\n",
    "    url = link.get('href')\n",
    "    if url.startswith('/scholarships-in'):\n",
    "        country = url[17:-6]\n",
    "        if ',' in country:\n",
    "            countries_all.extend(country.split(',-'))\n",
    "        else:\n",
    "            countries_all.append(country)\n",
    "    elif url.startswith('/scholarships?q='):\n",
    "        if not url.startswith('/scholarships?q=PhD&'):\n",
    "            fields.append(url[16:])\n",
    "\n",
    "# Clean up country list\n",
    "countries = []\n",
    "for country in countries_all:\n",
    "    if ('=' in country) or (len(country) < 2):\n",
    "        break\n",
    "    countries.append(country)"
   ]
  },
  {
   "cell_type": "code",
   "execution_count": null,
   "id": "892f3bc0",
   "metadata": {},
   "outputs": [],
   "source": [
    "combos = list(itertools.product(countries, programmes, fields))\n",
    "print(combos)"
   ]
  },
  {
   "cell_type": "code",
   "execution_count": null,
   "id": "f091d765",
   "metadata": {},
   "outputs": [],
   "source": [
    "data = []\n",
    "url = 'https://scholarshipdb.net/scholarships-in-{}/Program-{}?q={}'\n",
    "for i, (country, programme, field) in enumerate(combos):\n",
    "    html_text = requests.get(url.format(country, programme, field), verify=False)\n",
    "    soup = BeautifulSoup(html_text.text, 'html.parser')\n",
    "    try:\n",
    "        count = int(soup.title.text.split()[0].replace(',', ''))\n",
    "    except:\n",
    "        count = 0\n",
    "    data.append([country, programme, field, count])\n",
    "    if i % 100 == 0:\n",
    "        print(i)\n",
    "records = pd.DataFrame(data, columns=['country', 'programme', 'field', 'count'])\n",
    "records.to_csv('all-scholarships.csv', index=False)"
   ]
  },
  {
   "cell_type": "code",
   "execution_count": null,
   "id": "14ab5284",
   "metadata": {},
   "outputs": [],
   "source": [
    "records"
   ]
  },
  {
   "cell_type": "code",
   "execution_count": null,
   "id": "fb161922",
   "metadata": {},
   "outputs": [],
   "source": []
  }
 ],
 "metadata": {
  "kernelspec": {
   "display_name": "Python 3 (ipykernel)",
   "language": "python",
   "name": "python3"
  },
  "language_info": {
   "codemirror_mode": {
    "name": "ipython",
    "version": 3
   },
   "file_extension": ".py",
   "mimetype": "text/x-python",
   "name": "python",
   "nbconvert_exporter": "python",
   "pygments_lexer": "ipython3",
   "version": "3.9.12"
  }
 },
 "nbformat": 4,
 "nbformat_minor": 5
}
