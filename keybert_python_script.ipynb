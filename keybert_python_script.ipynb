{
 "cells": [
  {
   "cell_type": "code",
   "execution_count": null,
   "id": "fabbe77c",
   "metadata": {},
   "outputs": [],
   "source": [
    "\n",
    "output_table_1 = input_table_1.copy()\n",
    "from keybert import KeyBERT\n",
    "import pandas as pd\n",
    "\n",
    "docs = input_table_1['abstract'].tolist()\n",
    "\n",
    "kw_model = KeyBERT(model='allenai/scibert_scivocab_uncased')\n",
    "keywords = []\n",
    "\n",
    "\n",
    "for doc in docs:\n",
    "    keyword = kw_model.extract_keywords(doc, keyphrase_ngram_range=(1, 1), stop_words='english', top_n =10)\n",
    "    keywords.append([i[0] for i in keyword])\n",
    "\n",
    "\n",
    "output_table_1[\"keywords\"] = keywords    \n",
    "\n",
    "\n",
    "\n",
    "\n",
    "\n"
   ]
  }
 ],
 "metadata": {
  "kernelspec": {
   "display_name": "Python 3 (ipykernel)",
   "language": "python",
   "name": "python3"
  },
  "language_info": {
   "codemirror_mode": {
    "name": "ipython",
    "version": 3
   },
   "file_extension": ".py",
   "mimetype": "text/x-python",
   "name": "python",
   "nbconvert_exporter": "python",
   "pygments_lexer": "ipython3",
   "version": "3.9.12"
  }
 },
 "nbformat": 4,
 "nbformat_minor": 5
}
