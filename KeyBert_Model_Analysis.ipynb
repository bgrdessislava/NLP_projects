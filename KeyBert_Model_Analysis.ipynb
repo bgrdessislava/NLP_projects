{
 "cells": [
  {
   "cell_type": "code",
   "execution_count": 1,
   "metadata": {},
   "outputs": [
    {
     "name": "stderr",
     "output_type": "stream",
     "text": [
      "No sentence-transformers model found with name /Users/user/.cache/torch/sentence_transformers/allenai_scibert_scivocab_uncased. Creating a new one with MEAN pooling.\n",
      "Some weights of the model checkpoint at /Users/user/.cache/torch/sentence_transformers/allenai_scibert_scivocab_uncased were not used when initializing BertModel: ['cls.predictions.bias', 'cls.predictions.transform.dense.bias', 'cls.predictions.decoder.bias', 'cls.seq_relationship.bias', 'cls.predictions.transform.dense.weight', 'cls.predictions.transform.LayerNorm.bias', 'cls.predictions.decoder.weight', 'cls.seq_relationship.weight', 'cls.predictions.transform.LayerNorm.weight']\n",
      "- This IS expected if you are initializing BertModel from the checkpoint of a model trained on another task or with another architecture (e.g. initializing a BertForSequenceClassification model from a BertForPreTraining model).\n",
      "- This IS NOT expected if you are initializing BertModel from the checkpoint of a model that you expect to be exactly identical (initializing a BertForSequenceClassification model from a BertForSequenceClassification model).\n"
     ]
    }
   ],
   "source": [
    "import pandas as pd\n",
    "from keybert import KeyBERT\n",
    "# Copy input to output\n",
    "doc = \"Supervisor (primary): Dr. Rupert J. Myers, Department of Civil and Environmental Engineering Supervisors (co): Dr. Pablo Brito-Parada, Department of Earth Science and Engineering; Dr. Yves Plancherel, Department of Earth Science and Engineering; Dr. Kolyan Ray, Department of Mathematics. Background: Demand for materials and energy are increasing. Decarbonisation ambitions such as the Paris Agreement imply a radical longer-term shift from fossil materials utilisation (e.g. fuels for energy, feedstock for chemicals) to minerals (e.g. metals for renewable energy technologies) and biomass (e.g. bio-derived chemicals). Shorter-term shifts in resource flows can also have huge socioeconomic implications, such as the UK ‘energy crisis’ (2022). However, the socioeconomic impacts of these issues, which often arise from significant supply-demand mismatches, remain poorly understood. Hence, there is a growing and urgent need to systemically quantify and analyse how resources are used in the economy, to discover sustainable production-usage patterns that avoid supply-demand mismatches in the shorter and longer terms. This information then needs to be disseminated to policymakers, industry, and the resource community, so the necessary systemic actions can be taken to mitigate undesirable impacts. Previous research by Myers and colleagues on this topic, funded by the UKRI Circular Economy Centre in Mineral-Based Construction Materials [1], the Office for National Statistics, and as part of the Imperial-X Resources Observatory (RO) [2], has developed the Bayesian material flow analysis methodology needed for a quantitative digital twin of the physical economy [3]. This research involves comprehensive mapping of resource stocks and flows from extraction through to end-of-life, and then application of this systemic quantitative evidence to inform policymaking and business strategy. The vision for its application is to focus on resource emergencies and black swan events (UK energy crisis, semiconductor chip shortage, trade partner import/export bans such as the Rare Earth Crisis [4], etc.), to better understand these and to both propose mitigating policies and understand their efficacy – much like COVID-19 epidemiological modelling in SAGES [5], which showed effects of individual measures like social distancing on COVID-19 infections/mortality and demand for health services [6]. This approach was initially demonstrated by its application to understand the supply/demand balance of construction aggregates in England until 2030. We are now seeking to enhance its capability by applying it to other material systems and important current resource issues.   Project description: This PhD project will focus on improving the capability of Bayesian material flow analysis methodology to include multi-regional systems and energy stocks and flows (by incorporating energy balances). This will include application of statistics and scientific programming in our existing Python code. The improved methodology and code will be applied to analyse the supply/demand balance of energy materials in UK and its major trading partners. We plan to focus on the current ‘energy crisis’ and understand the landscape of energy material supply scenarios available to the UK and how these marry up to its demand. This will include the major energy production sites (and their processing steps) that supply (refined) energy materials to the UK. This will require the following objectives to be met: Development of datasets describing the material and energy compositions of products and production/waste treatment/recycling process inputs and outputs Improvement of our Python code (on our Imperial-hosted github repository) so it can ingest both material and energy data, and splice its outputs by region (e.g. UK), material or energy cycle, and product (or product category, e.g. electricity generation). We expect that these advancements will be demonstrated by modelling different competing technology options within the same product category, e.g. different energy sources for electricity generation, to understand their resource implications. Dissemination of these research outcomes to key stakeholders such as policymakers will also be key. Who we are looking for: The PhD student working on this project will be joining the interdisciplinary IROB team which contains several academics, postdocs, and PhD/MSc/UG students, as well as collaborators at the BGS and UCL. We are passionate about science and sustainability, enjoy working with one another, and meet via informal weekly group meetings. We are seeking a student who shares similar values and would enjoy this vibrant research environment; is ambitious, inquisitive, creative, and independent; and will thrive at the exciting and fast-moving cutting edge of sustainability science, in one of the world’s top universities and locations for this area of research.  The start date of the position is flexible.  How to apply: Applicants wishing to be considered for this opportunity should send the following information to Dr. Rupert J. Myers ( r.myers@imperial.ac.uk ): CV, ideally including class ranking Optionally, a cover letter explaining their motivation and suitability for the project Application via the Imperial College Registry is not necessary at this stage. Applications will be regularly reviewed until the position is filled. Applicant requirements: First class degree (or international equivalent) in engineering or science or a closely related subject, ideally including mathematics (statistics) and programming, e.g.: Mathematics, Quantitative Economics, Physics, Computer Science, Chemistry, Chemical Engineering, Environmental Science. Strong interest in sustainability and research. Excellent English communication skills. References: CE-HUB: UKRI National Interdisciplinary Circular Economy Research. Centre for Mineral-Based Construction Materials. Accessible at:  https://ce-hub.org/centre-for-mineral-based-construction-materials/ Imperial College London. Imperial-X – Human and Machine Learning. Accessible at:  https://www.imperial.ac.uk/imperialx Wang, J.; Ray, K.; Brito-Parada, P.; Plancherel, Y.; Bide, T.; Mankelow, J.; Morley, J.; Stegemann, J.; Myers, R.J.  ArXiv , A Bayesian approach for the modelling of material stocks and flows with incomplete data.  https://doi.org/10.48550/arXiv.2211.06178 Mancheri, N.A.  Resources Policy , 46(2), 262-271, (2015).  https://doi.org/10.1016/j.resourpol.2015.10.009 UK Government. Scientific Advisory Group for Emergencies. Accessible at:  https://www.gov.uk/government/organisations/scientific-advisory-group-for-emergencies Ferguson, N.M. et al., Report 9: Impact of non-pharmaceutical interventions (NPIs) to reduce COVID-19 mortality and healthcare demand. Accessible at:  https://www.imperial.ac.uk/media/imperial-college/medicine/mrc-gida/2020-03-16-COVID19-Report-9.pdf\"\n",
    "kw_model = KeyBERT(model='allenai/scibert_scivocab_uncased')\n"
   ]
  },
  {
   "cell_type": "code",
   "execution_count": 8,
   "metadata": {},
   "outputs": [
    {
     "name": "stdout",
     "output_type": "stream",
     "text": [
      "34.5 s ± 0 ns per loop (mean ± std. dev. of 1 run, 1 loop each)\n"
     ]
    }
   ],
   "source": [
    "%%timeit -n1 -r1\n",
    "keyword = kw_model.extract_keywords(doc, \n",
    "                                    keyphrase_ngram_range=(1,2),\n",
    "                                    stop_words='english',\n",
    "                                    diversity = 0.3)"
   ]
  },
  {
   "cell_type": "code",
   "execution_count": 13,
   "metadata": {},
   "outputs": [],
   "source": [
    "keyword = kw_model.extract_keywords(doc, \n",
    "                                    keyphrase_ngram_range=(1,2),\n",
    "                                    stop_words='english',\n",
    "                                    top_n = 7,\n",
    "                                    diversity = 0.3)"
   ]
  },
  {
   "cell_type": "code",
   "execution_count": 14,
   "metadata": {},
   "outputs": [
    {
     "data": {
      "text/plain": [
       "[('decarbonisation ambitions', 0.63),\n",
       " ('uk energy', 0.6279),\n",
       " ('resource emergencies', 0.6279),\n",
       " ('analyse resources', 0.6251),\n",
       " ('crisis 2022', 0.6208),\n",
       " ('sustainability science', 0.6201),\n",
       " ('sustainability research', 0.6189)]"
      ]
     },
     "execution_count": 14,
     "metadata": {},
     "output_type": "execute_result"
    }
   ],
   "source": [
    "keyword"
   ]
  },
  {
   "cell_type": "code",
   "execution_count": null,
   "metadata": {},
   "outputs": [],
   "source": []
  }
 ],
 "metadata": {
  "kernelspec": {
   "display_name": "Python 3",
   "language": "python",
   "name": "python3"
  },
  "language_info": {
   "codemirror_mode": {
    "name": "ipython",
    "version": 3
   },
   "file_extension": ".py",
   "mimetype": "text/x-python",
   "name": "python",
   "nbconvert_exporter": "python",
   "pygments_lexer": "ipython3",
   "version": "3.8.3"
  }
 },
 "nbformat": 4,
 "nbformat_minor": 4
}
