{
 "cells": [
  {
   "cell_type": "code",
   "execution_count": 1,
   "metadata": {},
   "outputs": [],
   "source": [
    "import pandas as pd\n",
    "import numpy as np"
   ]
  },
  {
   "cell_type": "code",
   "execution_count": 2,
   "metadata": {},
   "outputs": [],
   "source": [
    "opportunities_10_19 = pd.read_pickle('../Data/2022-10-19.pkl')"
   ]
  },
  {
   "cell_type": "code",
   "execution_count": 3,
   "metadata": {},
   "outputs": [],
   "source": [
    "opportunities_10_24 = pd.read_pickle('../Data/2022-10-24.pkl')"
   ]
  },
  {
   "cell_type": "code",
   "execution_count": 4,
   "metadata": {},
   "outputs": [],
   "source": [
    "opportunities_11_03 = pd.read_pickle('../Data/2022-11-03.pkl')"
   ]
  },
  {
   "cell_type": "code",
   "execution_count": 5,
   "metadata": {},
   "outputs": [],
   "source": [
    "opportunities_11_17 = pd.read_pickle('../Data/2022-11-17.pkl')"
   ]
  },
  {
   "cell_type": "code",
   "execution_count": 6,
   "metadata": {},
   "outputs": [],
   "source": [
    "opportunities_12_08 = pd.read_pickle('../Data/2022-12-08.pkl')"
   ]
  },
  {
   "cell_type": "code",
   "execution_count": 7,
   "metadata": {},
   "outputs": [
    {
     "data": {
      "text/plain": [
       "pandas.core.frame.DataFrame"
      ]
     },
     "execution_count": 7,
     "metadata": {},
     "output_type": "execute_result"
    }
   ],
   "source": [
    "type(opportunities_10_19)"
   ]
  },
  {
   "cell_type": "code",
   "execution_count": 8,
   "metadata": {},
   "outputs": [],
   "source": [
    "frames = [opportunities_10_19, opportunities_10_24,opportunities_11_03,opportunities_11_17,opportunities_12_08]"
   ]
  },
  {
   "cell_type": "code",
   "execution_count": 9,
   "metadata": {},
   "outputs": [],
   "source": [
    "result = pd.concat(frames)"
   ]
  },
  {
   "cell_type": "code",
   "execution_count": 10,
   "metadata": {},
   "outputs": [
    {
     "data": {
      "text/plain": [
       "array(['This project is one of a number that are in competition for funding from the. South West Biosciences Doctoral Training Partnership (SWBio DTP). Read more'],\n",
       "      dtype=object)"
      ]
     },
     "execution_count": 10,
     "metadata": {},
     "output_type": "execute_result"
    }
   ],
   "source": [
    "result['Description'].dropna().head(1).values"
   ]
  },
  {
   "cell_type": "code",
   "execution_count": 11,
   "metadata": {},
   "outputs": [
    {
     "data": {
      "text/html": [
       "<div>\n",
       "<style scoped>\n",
       "    .dataframe tbody tr th:only-of-type {\n",
       "        vertical-align: middle;\n",
       "    }\n",
       "\n",
       "    .dataframe tbody tr th {\n",
       "        vertical-align: top;\n",
       "    }\n",
       "\n",
       "    .dataframe thead th {\n",
       "        text-align: right;\n",
       "    }\n",
       "</style>\n",
       "<table border=\"1\" class=\"dataframe\">\n",
       "  <thead>\n",
       "    <tr style=\"text-align: right;\">\n",
       "      <th></th>\n",
       "      <th>Title</th>\n",
       "      <th>Deadline</th>\n",
       "      <th>SearchDate</th>\n",
       "      <th>DisciplineIds</th>\n",
       "      <th>DisciplineNames</th>\n",
       "      <th>SubjectIds</th>\n",
       "      <th>SubjectNames</th>\n",
       "      <th>LocationCountryName</th>\n",
       "      <th>LocationCityName</th>\n",
       "      <th>ProgrammeTypes</th>\n",
       "      <th>IId</th>\n",
       "      <th>InstitutionName</th>\n",
       "      <th>DId</th>\n",
       "      <th>DepartmentName</th>\n",
       "      <th>FundingTypes</th>\n",
       "      <th>Description</th>\n",
       "      <th>URL</th>\n",
       "    </tr>\n",
       "  </thead>\n",
       "  <tbody>\n",
       "    <tr>\n",
       "      <th>count</th>\n",
       "      <td>23622</td>\n",
       "      <td>7114</td>\n",
       "      <td>23622</td>\n",
       "      <td>23622</td>\n",
       "      <td>23622</td>\n",
       "      <td>23622</td>\n",
       "      <td>23622</td>\n",
       "      <td>23622</td>\n",
       "      <td>23622</td>\n",
       "      <td>23622</td>\n",
       "      <td>23622</td>\n",
       "      <td>23622</td>\n",
       "      <td>23622</td>\n",
       "      <td>23622</td>\n",
       "      <td>23622</td>\n",
       "      <td>18316</td>\n",
       "      <td>18316</td>\n",
       "    </tr>\n",
       "    <tr>\n",
       "      <th>unique</th>\n",
       "      <td>7485</td>\n",
       "      <td>126</td>\n",
       "      <td>4</td>\n",
       "      <td>1142</td>\n",
       "      <td>1142</td>\n",
       "      <td>5502</td>\n",
       "      <td>5252</td>\n",
       "      <td>36</td>\n",
       "      <td>215</td>\n",
       "      <td>64</td>\n",
       "      <td>376</td>\n",
       "      <td>376</td>\n",
       "      <td>1132</td>\n",
       "      <td>844</td>\n",
       "      <td>5</td>\n",
       "      <td>6971</td>\n",
       "      <td>7745</td>\n",
       "    </tr>\n",
       "    <tr>\n",
       "      <th>top</th>\n",
       "      <td>BBSRC EASTBIO Doctoral Training Partnership - ...</td>\n",
       "      <td>Funded PhD Programme (Students Worldwide)</td>\n",
       "      <td>2022-11-17</td>\n",
       "      <td>4</td>\n",
       "      <td>Biological Sciences</td>\n",
       "      <td></td>\n",
       "      <td>Other</td>\n",
       "      <td>United Kingdom</td>\n",
       "      <td>London</td>\n",
       "      <td>PhD Research Project</td>\n",
       "      <td>348</td>\n",
       "      <td>University of Sheffield</td>\n",
       "      <td></td>\n",
       "      <td></td>\n",
       "      <td>(EU, NE, SF, UK)</td>\n",
       "      <td>Talented and motivated students, passionate ab...</td>\n",
       "      <td>https://www.findaphd.com/phds/project/swbio-dt...</td>\n",
       "    </tr>\n",
       "    <tr>\n",
       "      <th>freq</th>\n",
       "      <td>44</td>\n",
       "      <td>907</td>\n",
       "      <td>6771</td>\n",
       "      <td>3334</td>\n",
       "      <td>3334</td>\n",
       "      <td>782</td>\n",
       "      <td>891</td>\n",
       "      <td>21452</td>\n",
       "      <td>2114</td>\n",
       "      <td>20577</td>\n",
       "      <td>1897</td>\n",
       "      <td>1897</td>\n",
       "      <td>1791</td>\n",
       "      <td>1791</td>\n",
       "      <td>11173</td>\n",
       "      <td>72</td>\n",
       "      <td>3</td>\n",
       "    </tr>\n",
       "  </tbody>\n",
       "</table>\n",
       "</div>"
      ],
      "text/plain": [
       "                                                    Title  \\\n",
       "count                                               23622   \n",
       "unique                                               7485   \n",
       "top     BBSRC EASTBIO Doctoral Training Partnership - ...   \n",
       "freq                                                   44   \n",
       "\n",
       "                                         Deadline  SearchDate DisciplineIds  \\\n",
       "count                                        7114       23622         23622   \n",
       "unique                                        126           4          1142   \n",
       "top     Funded PhD Programme (Students Worldwide)  2022-11-17             4   \n",
       "freq                                          907        6771          3334   \n",
       "\n",
       "            DisciplineNames SubjectIds SubjectNames LocationCountryName  \\\n",
       "count                 23622      23622        23622               23622   \n",
       "unique                 1142       5502         5252                  36   \n",
       "top     Biological Sciences                   Other      United Kingdom   \n",
       "freq                   3334        782          891               21452   \n",
       "\n",
       "       LocationCityName        ProgrammeTypes    IId          InstitutionName  \\\n",
       "count             23622                 23622  23622                    23622   \n",
       "unique              215                    64    376                      376   \n",
       "top              London  PhD Research Project    348  University of Sheffield   \n",
       "freq               2114                 20577   1897                     1897   \n",
       "\n",
       "          DId DepartmentName      FundingTypes  \\\n",
       "count   23622          23622             23622   \n",
       "unique   1132            844                 5   \n",
       "top                           (EU, NE, SF, UK)   \n",
       "freq     1791           1791             11173   \n",
       "\n",
       "                                              Description  \\\n",
       "count                                               18316   \n",
       "unique                                               6971   \n",
       "top     Talented and motivated students, passionate ab...   \n",
       "freq                                                   72   \n",
       "\n",
       "                                                      URL  \n",
       "count                                               18316  \n",
       "unique                                               7745  \n",
       "top     https://www.findaphd.com/phds/project/swbio-dt...  \n",
       "freq                                                    3  "
      ]
     },
     "execution_count": 11,
     "metadata": {},
     "output_type": "execute_result"
    }
   ],
   "source": [
    "result.describe()"
   ]
  },
  {
   "cell_type": "code",
   "execution_count": 12,
   "metadata": {},
   "outputs": [],
   "source": [
    "result_clean = result.drop_duplicates('URL')"
   ]
  },
  {
   "cell_type": "code",
   "execution_count": 13,
   "metadata": {},
   "outputs": [
    {
     "data": {
      "text/html": [
       "<div>\n",
       "<style scoped>\n",
       "    .dataframe tbody tr th:only-of-type {\n",
       "        vertical-align: middle;\n",
       "    }\n",
       "\n",
       "    .dataframe tbody tr th {\n",
       "        vertical-align: top;\n",
       "    }\n",
       "\n",
       "    .dataframe thead th {\n",
       "        text-align: right;\n",
       "    }\n",
       "</style>\n",
       "<table border=\"1\" class=\"dataframe\">\n",
       "  <thead>\n",
       "    <tr style=\"text-align: right;\">\n",
       "      <th></th>\n",
       "      <th>Title</th>\n",
       "      <th>Deadline</th>\n",
       "      <th>SearchDate</th>\n",
       "      <th>DisciplineIds</th>\n",
       "      <th>DisciplineNames</th>\n",
       "      <th>SubjectIds</th>\n",
       "      <th>SubjectNames</th>\n",
       "      <th>LocationCountryName</th>\n",
       "      <th>LocationCityName</th>\n",
       "      <th>ProgrammeTypes</th>\n",
       "      <th>IId</th>\n",
       "      <th>InstitutionName</th>\n",
       "      <th>DId</th>\n",
       "      <th>DepartmentName</th>\n",
       "      <th>FundingTypes</th>\n",
       "      <th>Description</th>\n",
       "      <th>URL</th>\n",
       "    </tr>\n",
       "  </thead>\n",
       "  <tbody>\n",
       "    <tr>\n",
       "      <th>count</th>\n",
       "      <td>7746</td>\n",
       "      <td>1906</td>\n",
       "      <td>7746</td>\n",
       "      <td>7746</td>\n",
       "      <td>7746</td>\n",
       "      <td>7746</td>\n",
       "      <td>7746</td>\n",
       "      <td>7746</td>\n",
       "      <td>7746</td>\n",
       "      <td>7746</td>\n",
       "      <td>7746</td>\n",
       "      <td>7746</td>\n",
       "      <td>7746</td>\n",
       "      <td>7746</td>\n",
       "      <td>7746</td>\n",
       "      <td>7745</td>\n",
       "      <td>7745</td>\n",
       "    </tr>\n",
       "    <tr>\n",
       "      <th>unique</th>\n",
       "      <td>7392</td>\n",
       "      <td>107</td>\n",
       "      <td>4</td>\n",
       "      <td>1129</td>\n",
       "      <td>1129</td>\n",
       "      <td>5400</td>\n",
       "      <td>5155</td>\n",
       "      <td>36</td>\n",
       "      <td>214</td>\n",
       "      <td>64</td>\n",
       "      <td>374</td>\n",
       "      <td>374</td>\n",
       "      <td>1119</td>\n",
       "      <td>834</td>\n",
       "      <td>5</td>\n",
       "      <td>6905</td>\n",
       "      <td>7745</td>\n",
       "    </tr>\n",
       "    <tr>\n",
       "      <th>top</th>\n",
       "      <td>Trials and Methodology Research Partnership (T...</td>\n",
       "      <td>5 December 2022</td>\n",
       "      <td>2022-10-24</td>\n",
       "      <td>4</td>\n",
       "      <td>Biological Sciences</td>\n",
       "      <td></td>\n",
       "      <td>Other</td>\n",
       "      <td>United Kingdom</td>\n",
       "      <td>London</td>\n",
       "      <td>PhD Research Project</td>\n",
       "      <td>332</td>\n",
       "      <td>The University of Manchester</td>\n",
       "      <td></td>\n",
       "      <td></td>\n",
       "      <td>(EU, NE, SF, UK)</td>\n",
       "      <td>Talented and motivated students, passionate ab...</td>\n",
       "      <td>https://www.findaphd.com/phds/project/swbio-dt...</td>\n",
       "    </tr>\n",
       "    <tr>\n",
       "      <th>freq</th>\n",
       "      <td>12</td>\n",
       "      <td>182</td>\n",
       "      <td>5516</td>\n",
       "      <td>1147</td>\n",
       "      <td>1147</td>\n",
       "      <td>278</td>\n",
       "      <td>296</td>\n",
       "      <td>7097</td>\n",
       "      <td>674</td>\n",
       "      <td>6840</td>\n",
       "      <td>531</td>\n",
       "      <td>531</td>\n",
       "      <td>546</td>\n",
       "      <td>546</td>\n",
       "      <td>4082</td>\n",
       "      <td>36</td>\n",
       "      <td>1</td>\n",
       "    </tr>\n",
       "  </tbody>\n",
       "</table>\n",
       "</div>"
      ],
      "text/plain": [
       "                                                    Title         Deadline  \\\n",
       "count                                                7746             1906   \n",
       "unique                                               7392              107   \n",
       "top     Trials and Methodology Research Partnership (T...  5 December 2022   \n",
       "freq                                                   12              182   \n",
       "\n",
       "        SearchDate DisciplineIds      DisciplineNames SubjectIds SubjectNames  \\\n",
       "count         7746          7746                 7746       7746         7746   \n",
       "unique           4          1129                 1129       5400         5155   \n",
       "top     2022-10-24             4  Biological Sciences                   Other   \n",
       "freq          5516          1147                 1147        278          296   \n",
       "\n",
       "       LocationCountryName LocationCityName        ProgrammeTypes   IId  \\\n",
       "count                 7746             7746                  7746  7746   \n",
       "unique                  36              214                    64   374   \n",
       "top         United Kingdom           London  PhD Research Project   332   \n",
       "freq                  7097              674                  6840   531   \n",
       "\n",
       "                     InstitutionName   DId DepartmentName      FundingTypes  \\\n",
       "count                           7746  7746           7746              7746   \n",
       "unique                           374  1119            834                 5   \n",
       "top     The University of Manchester                       (EU, NE, SF, UK)   \n",
       "freq                             531   546            546              4082   \n",
       "\n",
       "                                              Description  \\\n",
       "count                                                7745   \n",
       "unique                                               6905   \n",
       "top     Talented and motivated students, passionate ab...   \n",
       "freq                                                   36   \n",
       "\n",
       "                                                      URL  \n",
       "count                                                7745  \n",
       "unique                                               7745  \n",
       "top     https://www.findaphd.com/phds/project/swbio-dt...  \n",
       "freq                                                    1  "
      ]
     },
     "execution_count": 13,
     "metadata": {},
     "output_type": "execute_result"
    }
   ],
   "source": [
    "result_clean.describe()"
   ]
  },
  {
   "cell_type": "code",
   "execution_count": null,
   "metadata": {},
   "outputs": [],
   "source": [
    "FindPhD_description = result_clean[[\"URL\",\"Description\"]]"
   ]
  },
  {
   "cell_type": "code",
   "execution_count": null,
   "metadata": {},
   "outputs": [],
   "source": [
    "FindPhD_description.head(120)"
   ]
  },
  {
   "cell_type": "code",
   "execution_count": null,
   "metadata": {},
   "outputs": [],
   "source": [
    "FindPhD_description.to_csv('../Data/FindaPhD_description.csv')"
   ]
  },
  {
   "cell_type": "code",
   "execution_count": null,
   "metadata": {},
   "outputs": [],
   "source": [
    "list(FindPhD_description.columns)"
   ]
  },
  {
   "cell_type": "code",
   "execution_count": null,
   "metadata": {},
   "outputs": [],
   "source": [
    "FindPhD_description  = FindPhD_description .rename(columns={: 'Col_1'}, index={'ONE': 'Row_1'})"
   ]
  }
 ],
 "metadata": {
  "kernelspec": {
   "display_name": "Python 3",
   "language": "python",
   "name": "python3"
  },
  "language_info": {
   "codemirror_mode": {
    "name": "ipython",
    "version": 3
   },
   "file_extension": ".py",
   "mimetype": "text/x-python",
   "name": "python",
   "nbconvert_exporter": "python",
   "pygments_lexer": "ipython3",
   "version": "3.8.3"
  }
 },
 "nbformat": 4,
 "nbformat_minor": 4
}
