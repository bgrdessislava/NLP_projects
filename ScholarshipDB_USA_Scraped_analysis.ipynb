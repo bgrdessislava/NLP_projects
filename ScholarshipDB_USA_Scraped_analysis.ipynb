{
 "cells": [
  {
   "cell_type": "code",
   "execution_count": 35,
   "id": "1c240a48",
   "metadata": {},
   "outputs": [
    {
     "ename": "ModuleNotFoundError",
     "evalue": "No module named 'part_of_speech'",
     "output_type": "error",
     "traceback": [
      "\u001b[1;31m---------------------------------------------------------------------------\u001b[0m",
      "\u001b[1;31mModuleNotFoundError\u001b[0m                       Traceback (most recent call last)",
      "Input \u001b[1;32mIn [35]\u001b[0m, in \u001b[0;36m<cell line: 10>\u001b[1;34m()\u001b[0m\n\u001b[0;32m      8\u001b[0m \u001b[38;5;28;01mfrom\u001b[39;00m \u001b[38;5;21;01mcollections\u001b[39;00m \u001b[38;5;28;01mimport\u001b[39;00m Counter\n\u001b[0;32m      9\u001b[0m \u001b[38;5;28;01mimport\u001b[39;00m \u001b[38;5;21;01mnltk\u001b[39;00m\n\u001b[1;32m---> 10\u001b[0m \u001b[38;5;28;01mfrom\u001b[39;00m \u001b[38;5;21;01mpart_of_speech\u001b[39;00m \u001b[38;5;28;01mimport\u001b[39;00m get_part_of_speech\n",
      "\u001b[1;31mModuleNotFoundError\u001b[0m: No module named 'part_of_speech'"
     ]
    }
   ],
   "source": [
    "import pandas as pd\n",
    "# importing regex and nltk\n",
    "import re, nltk\n",
    "from nltk.corpus import stopwords\n",
    "from nltk.tokenize import word_tokenize\n",
    "from nltk.stem import WordNetLemmatizer\n",
    "# importing Counter to get word counts for bag of words\n",
    "from collections import Counter\n",
    "import nltk\n",
    "from part_of_speech import get_part_of_speech"
   ]
  },
  {
   "cell_type": "code",
   "execution_count": 59,
   "id": "21a654d9",
   "metadata": {},
   "outputs": [
    {
     "name": "stderr",
     "output_type": "stream",
     "text": [
      "[nltk_data] Downloading package wordnet to\n",
      "[nltk_data]     C:\\Users\\Dessy\\AppData\\Roaming\\nltk_data...\n"
     ]
    },
    {
     "data": {
      "text/plain": [
       "True"
      ]
     },
     "execution_count": 59,
     "metadata": {},
     "output_type": "execute_result"
    }
   ],
   "source": [
    " nltk.download('wordnet')"
   ]
  },
  {
   "cell_type": "code",
   "execution_count": 44,
   "id": "2129f519",
   "metadata": {},
   "outputs": [
    {
     "ename": "ModuleNotFoundError",
     "evalue": "No module named 'part_of_speech'",
     "output_type": "error",
     "traceback": [
      "\u001b[1;31m---------------------------------------------------------------------------\u001b[0m",
      "\u001b[1;31mModuleNotFoundError\u001b[0m                       Traceback (most recent call last)",
      "Input \u001b[1;32mIn [44]\u001b[0m, in \u001b[0;36m<cell line: 1>\u001b[1;34m()\u001b[0m\n\u001b[1;32m----> 1\u001b[0m \u001b[38;5;28;01mfrom\u001b[39;00m \u001b[38;5;21;01mpart_of_speech\u001b[39;00m \u001b[38;5;28;01mimport\u001b[39;00m get_part_of_speech\n",
      "\u001b[1;31mModuleNotFoundError\u001b[0m: No module named 'part_of_speech'"
     ]
    }
   ],
   "source": [
    "from part_of_speech import get_part_of_speech"
   ]
  },
  {
   "cell_type": "code",
   "execution_count": 43,
   "id": "d419edea",
   "metadata": {},
   "outputs": [
    {
     "name": "stdout",
     "output_type": "stream",
     "text": [
      "Note: you may need to restart the kernel to use updated packages.\n"
     ]
    },
    {
     "name": "stderr",
     "output_type": "stream",
     "text": [
      "ERROR: Could not find a version that satisfies the requirement part_of_speech (from versions: none)\n",
      "ERROR: No matching distribution found for part_of_speech\n"
     ]
    }
   ],
   "source": [
    "pip install part_of_speech "
   ]
  },
  {
   "cell_type": "code",
   "execution_count": 3,
   "id": "71c750ce",
   "metadata": {},
   "outputs": [],
   "source": [
    "df = pd.read_csv('../Data/Scrped_US_ScholrshipDB.csv')"
   ]
  },
  {
   "cell_type": "code",
   "execution_count": 12,
   "id": "ec69da77",
   "metadata": {},
   "outputs": [],
   "source": [
    "def remove_whitespace(text):\n",
    "    return re.sub('\\W+', ' ', text).lower()\n",
    "\n",
    "df['FullText'].apply(remove_whitespace)\n",
    "df['clean_text'] = df['FullText'].apply(remove_whitespace)"
   ]
  },
  {
   "cell_type": "code",
   "execution_count": 51,
   "id": "0b465b36",
   "metadata": {},
   "outputs": [],
   "source": [
    "df['clean_text_token'] = df['clean_text'].apply(word_tokenize)"
   ]
  },
  {
   "cell_type": "code",
   "execution_count": 57,
   "id": "47cc2d2d",
   "metadata": {},
   "outputs": [],
   "source": [
    "def filtering(text, stop_words):\n",
    "    filtered = []\n",
    "    for word in text:\n",
    "        if word not in stop_words:\n",
    "            filtered.append(word)\n",
    "    return filtered\n",
    "\n",
    "stop_words = stopwords.words('english')\n",
    "\n",
    "df['filtered_text'] = df['clean_text_token'].apply(filtering, args=(stop_words,))"
   ]
  },
  {
   "cell_type": "code",
   "execution_count": 61,
   "id": "9cfdc23e",
   "metadata": {},
   "outputs": [
    {
     "name": "stderr",
     "output_type": "stream",
     "text": [
      "[nltk_data] Downloading package omw-1.4 to\n",
      "[nltk_data]     C:\\Users\\Dessy\\AppData\\Roaming\\nltk_data...\n"
     ]
    },
    {
     "data": {
      "text/plain": [
       "True"
      ]
     },
     "execution_count": 61,
     "metadata": {},
     "output_type": "execute_result"
    }
   ],
   "source": [
    "nltk.download('omw-1.4')"
   ]
  },
  {
   "cell_type": "code",
   "execution_count": 62,
   "id": "4734d7d6",
   "metadata": {},
   "outputs": [],
   "source": [
    "def lemmatizing(text):\n",
    "    lammetized = []\n",
    "    normalizer = WordNetLemmatizer()\n",
    "    for word in text:\n",
    "        word = normalizer.lemmatize(word)\n",
    "        lammetized.append(word)\n",
    "    return lammetized\n",
    "\n",
    "df['lemmatized_text'] = df['filtered_text'].apply(lemmatizing)"
   ]
  },
  {
   "cell_type": "code",
   "execution_count": 63,
   "id": "8997eb23",
   "metadata": {},
   "outputs": [
    {
     "data": {
      "text/html": [
       "<div>\n",
       "<style scoped>\n",
       "    .dataframe tbody tr th:only-of-type {\n",
       "        vertical-align: middle;\n",
       "    }\n",
       "\n",
       "    .dataframe tbody tr th {\n",
       "        vertical-align: top;\n",
       "    }\n",
       "\n",
       "    .dataframe thead th {\n",
       "        text-align: right;\n",
       "    }\n",
       "</style>\n",
       "<table border=\"1\" class=\"dataframe\">\n",
       "  <thead>\n",
       "    <tr style=\"text-align: right;\">\n",
       "      <th></th>\n",
       "      <th>0</th>\n",
       "    </tr>\n",
       "  </thead>\n",
       "  <tbody>\n",
       "    <tr>\n",
       "      <th>FullText</th>\n",
       "      <td>\\nThe Department of Physics and Astronomy at C...</td>\n",
       "    </tr>\n",
       "    <tr>\n",
       "      <th>clean_text</th>\n",
       "      <td>the department of physics and astronomy at cl...</td>\n",
       "    </tr>\n",
       "    <tr>\n",
       "      <th>clean_text_token</th>\n",
       "      <td>[the, department, of, physics, and, astronomy,...</td>\n",
       "    </tr>\n",
       "    <tr>\n",
       "      <th>filtered_text</th>\n",
       "      <td>[department, physics, astronomy, clemson, univ...</td>\n",
       "    </tr>\n",
       "    <tr>\n",
       "      <th>lemmatized_text</th>\n",
       "      <td>[department, physic, astronomy, clemson, unive...</td>\n",
       "    </tr>\n",
       "  </tbody>\n",
       "</table>\n",
       "</div>"
      ],
      "text/plain": [
       "                                                                  0\n",
       "FullText          \\nThe Department of Physics and Astronomy at C...\n",
       "clean_text         the department of physics and astronomy at cl...\n",
       "clean_text_token  [the, department, of, physics, and, astronomy,...\n",
       "filtered_text     [department, physics, astronomy, clemson, univ...\n",
       "lemmatized_text   [department, physic, astronomy, clemson, unive..."
      ]
     },
     "execution_count": 63,
     "metadata": {},
     "output_type": "execute_result"
    }
   ],
   "source": [
    "df[['FullText', 'clean_text', 'clean_text_token', 'filtered_text', 'lemmatized_text']].head(1).T"
   ]
  },
  {
   "cell_type": "code",
   "execution_count": 48,
   "id": "ac4f0757",
   "metadata": {},
   "outputs": [],
   "source": [
    "normalizer = WordNetLemmatizer()"
   ]
  },
  {
   "cell_type": "code",
   "execution_count": 45,
   "id": "cb4121fa",
   "metadata": {},
   "outputs": [
    {
     "ename": "NameError",
     "evalue": "name 'get_part_of_speech' is not defined",
     "output_type": "error",
     "traceback": [
      "\u001b[1;31m---------------------------------------------------------------------------\u001b[0m",
      "\u001b[1;31mNameError\u001b[0m                                 Traceback (most recent call last)",
      "Input \u001b[1;32mIn [45]\u001b[0m, in \u001b[0;36m<cell line: 1>\u001b[1;34m()\u001b[0m\n\u001b[1;32m----> 1\u001b[0m normalized \u001b[38;5;241m=\u001b[39m [normalizer\u001b[38;5;241m.\u001b[39mlemmatize(token, get_part_of_speech(token)) \u001b[38;5;28;01mfor\u001b[39;00m token \u001b[38;5;129;01min\u001b[39;00m filtered]\n",
      "Input \u001b[1;32mIn [45]\u001b[0m, in \u001b[0;36m<listcomp>\u001b[1;34m(.0)\u001b[0m\n\u001b[1;32m----> 1\u001b[0m normalized \u001b[38;5;241m=\u001b[39m [normalizer\u001b[38;5;241m.\u001b[39mlemmatize(token, \u001b[43mget_part_of_speech\u001b[49m(token)) \u001b[38;5;28;01mfor\u001b[39;00m token \u001b[38;5;129;01min\u001b[39;00m filtered]\n",
      "\u001b[1;31mNameError\u001b[0m: name 'get_part_of_speech' is not defined"
     ]
    }
   ],
   "source": [
    "normalized = [normalizer.lemmatize(token, get_part_of_speech(token)) for token in filtered]"
   ]
  },
  {
   "cell_type": "code",
   "execution_count": 49,
   "id": "1e7dc77e",
   "metadata": {},
   "outputs": [
    {
     "ename": "TypeError",
     "evalue": "'WordNetLemmatizer' object is not iterable",
     "output_type": "error",
     "traceback": [
      "\u001b[1;31m---------------------------------------------------------------------------\u001b[0m",
      "\u001b[1;31mTypeError\u001b[0m                                 Traceback (most recent call last)",
      "Input \u001b[1;32mIn [49]\u001b[0m, in \u001b[0;36m<cell line: 1>\u001b[1;34m()\u001b[0m\n\u001b[1;32m----> 1\u001b[0m bag_of_looking_glass_words \u001b[38;5;241m=\u001b[39m \u001b[43mCounter\u001b[49m\u001b[43m(\u001b[49m\u001b[43mnormalizer\u001b[49m\u001b[43m)\u001b[49m\n",
      "File \u001b[1;32m~\\anaconda3\\lib\\collections\\__init__.py:593\u001b[0m, in \u001b[0;36mCounter.__init__\u001b[1;34m(self, iterable, **kwds)\u001b[0m\n\u001b[0;32m    582\u001b[0m \u001b[38;5;124;03m'''Create a new, empty Counter object.  And if given, count elements\u001b[39;00m\n\u001b[0;32m    583\u001b[0m \u001b[38;5;124;03mfrom an input iterable.  Or, initialize the count from another mapping\u001b[39;00m\n\u001b[0;32m    584\u001b[0m \u001b[38;5;124;03mof elements to their counts.\u001b[39;00m\n\u001b[1;32m   (...)\u001b[0m\n\u001b[0;32m    590\u001b[0m \n\u001b[0;32m    591\u001b[0m \u001b[38;5;124;03m'''\u001b[39;00m\n\u001b[0;32m    592\u001b[0m \u001b[38;5;28msuper\u001b[39m()\u001b[38;5;241m.\u001b[39m\u001b[38;5;21m__init__\u001b[39m()\n\u001b[1;32m--> 593\u001b[0m \u001b[38;5;28mself\u001b[39m\u001b[38;5;241m.\u001b[39mupdate(iterable, \u001b[38;5;241m*\u001b[39m\u001b[38;5;241m*\u001b[39mkwds)\n",
      "File \u001b[1;32m~\\anaconda3\\lib\\collections\\__init__.py:679\u001b[0m, in \u001b[0;36mCounter.update\u001b[1;34m(self, iterable, **kwds)\u001b[0m\n\u001b[0;32m    677\u001b[0m             \u001b[38;5;28msuper\u001b[39m()\u001b[38;5;241m.\u001b[39mupdate(iterable)\n\u001b[0;32m    678\u001b[0m     \u001b[38;5;28;01melse\u001b[39;00m:\n\u001b[1;32m--> 679\u001b[0m         \u001b[43m_count_elements\u001b[49m\u001b[43m(\u001b[49m\u001b[38;5;28;43mself\u001b[39;49m\u001b[43m,\u001b[49m\u001b[43m \u001b[49m\u001b[43miterable\u001b[49m\u001b[43m)\u001b[49m\n\u001b[0;32m    680\u001b[0m \u001b[38;5;28;01mif\u001b[39;00m kwds:\n\u001b[0;32m    681\u001b[0m     \u001b[38;5;28mself\u001b[39m\u001b[38;5;241m.\u001b[39mupdate(kwds)\n",
      "\u001b[1;31mTypeError\u001b[0m: 'WordNetLemmatizer' object is not iterable"
     ]
    }
   ],
   "source": [
    "bag_of_looking_glass_words = Counter(normalizer)"
   ]
  },
  {
   "cell_type": "code",
   "execution_count": null,
   "id": "023adaaf",
   "metadata": {},
   "outputs": [],
   "source": []
  }
 ],
 "metadata": {
  "kernelspec": {
   "display_name": "Python 3 (ipykernel)",
   "language": "python",
   "name": "python3"
  },
  "language_info": {
   "codemirror_mode": {
    "name": "ipython",
    "version": 3
   },
   "file_extension": ".py",
   "mimetype": "text/x-python",
   "name": "python",
   "nbconvert_exporter": "python",
   "pygments_lexer": "ipython3",
   "version": "3.9.12"
  }
 },
 "nbformat": 4,
 "nbformat_minor": 5
}
