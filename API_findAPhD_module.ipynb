{
 "cells": [
  {
   "cell_type": "code",
   "execution_count": 17,
   "id": "37c5b36e",
   "metadata": {},
   "outputs": [
    {
     "name": "stdout",
     "output_type": "stream",
     "text": [
      "Requirement already satisfied: phdseeker in c:\\users\\dessy\\anaconda3\\lib\\site-packages (0.4.5)\n",
      "Requirement already satisfied: brotlipy in c:\\users\\dessy\\anaconda3\\lib\\site-packages (from phdseeker) (0.7.0)\n",
      "Requirement already satisfied: rich in c:\\users\\dessy\\anaconda3\\lib\\site-packages (from phdseeker) (12.6.0)\n",
      "Requirement already satisfied: docopt in c:\\users\\dessy\\anaconda3\\lib\\site-packages (from phdseeker) (0.6.2)\n",
      "Requirement already satisfied: httpx in c:\\users\\dessy\\anaconda3\\lib\\site-packages (from phdseeker) (0.18.1)\n",
      "Requirement already satisfied: openpyxl in c:\\users\\dessy\\anaconda3\\lib\\site-packages (from phdseeker) (3.0.9)\n",
      "Requirement already satisfied: pandas in c:\\users\\dessy\\anaconda3\\lib\\site-packages (from phdseeker) (1.4.2)\n",
      "Requirement already satisfied: http3 in c:\\users\\dessy\\anaconda3\\lib\\site-packages (from phdseeker) (0.6.7)\n",
      "Requirement already satisfied: cffi>=1.0.0 in c:\\users\\dessy\\anaconda3\\lib\\site-packages (from brotlipy->phdseeker) (1.15.0)\n",
      "Requirement already satisfied: pycparser in c:\\users\\dessy\\anaconda3\\lib\\site-packages (from cffi>=1.0.0->brotlipy->phdseeker) (2.21)\n",
      "Requirement already satisfied: chardet==3.* in c:\\users\\dessy\\anaconda3\\lib\\site-packages (from http3->phdseeker) (3.0.4)\n",
      "Requirement already satisfied: h2==3.* in c:\\users\\dessy\\anaconda3\\lib\\site-packages (from http3->phdseeker) (3.2.0)\n",
      "Requirement already satisfied: idna==2.* in c:\\users\\dessy\\anaconda3\\lib\\site-packages (from http3->phdseeker) (2.10)\n",
      "Requirement already satisfied: certifi in c:\\users\\dessy\\anaconda3\\lib\\site-packages (from http3->phdseeker) (2021.10.8)\n",
      "Requirement already satisfied: rfc3986==1.* in c:\\users\\dessy\\anaconda3\\lib\\site-packages (from http3->phdseeker) (1.5.0)\n",
      "Requirement already satisfied: h11==0.8.* in c:\\users\\dessy\\anaconda3\\lib\\site-packages (from http3->phdseeker) (0.8.1)\n",
      "Requirement already satisfied: hpack<4,>=3.0 in c:\\users\\dessy\\anaconda3\\lib\\site-packages (from h2==3.*->http3->phdseeker) (3.0.0)\n",
      "Requirement already satisfied: hyperframe<6,>=5.2.0 in c:\\users\\dessy\\anaconda3\\lib\\site-packages (from h2==3.*->http3->phdseeker) (5.2.0)\n",
      "Requirement already satisfied: httpcore<0.14.0,>=0.13.0 in c:\\users\\dessy\\anaconda3\\lib\\site-packages (from httpx->phdseeker) (0.13.2)\n",
      "Requirement already satisfied: sniffio in c:\\users\\dessy\\anaconda3\\lib\\site-packages (from httpx->phdseeker) (1.2.0)\n",
      "Requirement already satisfied: et-xmlfile in c:\\users\\dessy\\anaconda3\\lib\\site-packages (from openpyxl->phdseeker) (1.1.0)\n",
      "Requirement already satisfied: pytz>=2020.1 in c:\\users\\dessy\\anaconda3\\lib\\site-packages (from pandas->phdseeker) (2021.3)\n",
      "Requirement already satisfied: python-dateutil>=2.8.1 in c:\\users\\dessy\\anaconda3\\lib\\site-packages (from pandas->phdseeker) (2.8.2)\n",
      "Requirement already satisfied: numpy>=1.18.5 in c:\\users\\dessy\\anaconda3\\lib\\site-packages (from pandas->phdseeker) (1.21.5)\n",
      "Requirement already satisfied: six>=1.5 in c:\\users\\dessy\\anaconda3\\lib\\site-packages (from python-dateutil>=2.8.1->pandas->phdseeker) (1.16.0)\n",
      "Requirement already satisfied: pygments<3.0.0,>=2.6.0 in c:\\users\\dessy\\anaconda3\\lib\\site-packages (from rich->phdseeker) (2.11.2)\n",
      "Requirement already satisfied: commonmark<0.10.0,>=0.9.0 in c:\\users\\dessy\\anaconda3\\lib\\site-packages (from rich->phdseeker) (0.9.1)\n",
      "Note: you may need to restart the kernel to use updated packages.\n"
     ]
    }
   ],
   "source": [
    "pip install phdseeker"
   ]
  },
  {
   "cell_type": "code",
   "execution_count": 18,
   "id": "0f524056",
   "metadata": {},
   "outputs": [],
   "source": [
    "import phdseeker"
   ]
  },
  {
   "cell_type": "code",
   "execution_count": 19,
   "id": "19338136",
   "metadata": {},
   "outputs": [
    {
     "name": "stdout",
     "output_type": "stream",
     "text": [
      "Help on package phdseeker:\n",
      "\n",
      "NAME\n",
      "    phdseeker\n",
      "\n",
      "PACKAGE CONTENTS\n",
      "    __main__\n",
      "    constants\n",
      "    main\n",
      "    phdseeker_cli\n",
      "    rich_dataframe\n",
      "\n",
      "FILE\n",
      "    c:\\users\\dessy\\anaconda3\\lib\\site-packages\\phdseeker\\__init__.py\n",
      "\n",
      "\n"
     ]
    }
   ],
   "source": [
    "help(phdseeker)"
   ]
  },
  {
   "cell_type": "code",
   "execution_count": 20,
   "id": "68b3f739",
   "metadata": {},
   "outputs": [
    {
     "ename": "SyntaxError",
     "evalue": "invalid syntax (3072712489.py, line 1)",
     "output_type": "error",
     "traceback": [
      "\u001b[1;36m  Input \u001b[1;32mIn [20]\u001b[1;36m\u001b[0m\n\u001b[1;33m    git clone https://github.com/Aghababaei/PhD-Seeker.git\u001b[0m\n\u001b[1;37m        ^\u001b[0m\n\u001b[1;31mSyntaxError\u001b[0m\u001b[1;31m:\u001b[0m invalid syntax\n"
     ]
    }
   ],
   "source": [
    "git clone https://github.com/Aghababaei/PhD-Seeker.git\n",
    "cd PhD-Seeker\n",
    "python setup.py install"
   ]
  },
  {
   "cell_type": "code",
   "execution_count": 21,
   "id": "05e0d42e",
   "metadata": {},
   "outputs": [
    {
     "data": {
      "text/plain": [
       "<module 'phdseeker' from 'C:\\\\Users\\\\Dessy\\\\anaconda3\\\\lib\\\\site-packages\\\\phdseeker\\\\__init__.py'>"
      ]
     },
     "execution_count": 21,
     "metadata": {},
     "output_type": "execute_result"
    }
   ],
   "source": [
    "phdseeker"
   ]
  },
  {
   "cell_type": "code",
   "execution_count": null,
   "id": "62f0701f",
   "metadata": {},
   "outputs": [],
   "source": []
  }
 ],
 "metadata": {
  "kernelspec": {
   "display_name": "Python 3 (ipykernel)",
   "language": "python",
   "name": "python3"
  },
  "language_info": {
   "codemirror_mode": {
    "name": "ipython",
    "version": 3
   },
   "file_extension": ".py",
   "mimetype": "text/x-python",
   "name": "python",
   "nbconvert_exporter": "python",
   "pygments_lexer": "ipython3",
   "version": "3.9.12"
  }
 },
 "nbformat": 4,
 "nbformat_minor": 5
}
