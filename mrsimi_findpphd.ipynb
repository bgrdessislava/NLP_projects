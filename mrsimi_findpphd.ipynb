{
 "cells": [
  {
   "cell_type": "code",
   "execution_count": 1,
   "metadata": {},
   "outputs": [],
   "source": [
    "import time\n",
    "import requests\n",
    "import pandas as pd\n",
    "from datetime import date\n",
    "from bs4 import BeautifulSoup\n",
    "from collections import defaultdict"
   ]
  },
  {
   "cell_type": "code",
   "execution_count": 2,
   "metadata": {},
   "outputs": [],
   "source": [
    "class PhdBot:\n",
    "    def __init__(self, keyword=None, sleep: int = 2) -> None:\n",
    "        #self.url = '{}&PG={}' if keyword is None else '{}Keywords={}&PG={}'\n",
    "        self.url = 'https://www.findaphd.com/phds/?PG={}'\n",
    "        self.opportunities = defaultdict(list)\n",
    "        self.keyword = None\n",
    "        self.sleep = sleep\n",
    "    \n",
    "    def generate_opportunities(self):\n",
    "        page = 1\n",
    "        while True:\n",
    "            if self.keyword is None:\n",
    "                url = self.url.format(str(page))\n",
    "            else:\n",
    "                url = self.url.format(self.keyword, str(page))\n",
    "            mydivs = self._parseURL(url)\n",
    "            if len(mydivs) <= 4:\n",
    "                time.sleep(60)\n",
    "                mydivs = self._parseURL(url)\n",
    "                if len(mydivs) <= 4:\n",
    "                    break\n",
    "            for divs in mydivs:\n",
    "                if divs is not None:\n",
    "                    title = self._getTitle(divs)\n",
    "                    if title is None:\n",
    "                        continue\n",
    "                    self.opportunities['Title'].append(title)\n",
    "                    self.opportunities['Description'].append(self._getDescription(divs))\n",
    "                    self.opportunities['URL'].append(self._getread_more(divs))\n",
    "                    self.opportunities['Deadline'].append(self._getDeadline(divs))\n",
    "                    self.opportunities['SearchDate'].append(date.today())\n",
    "                    usedKeys = self._addAttributes(divs)\n",
    "                    for missing in self._validKeys - usedKeys:\n",
    "                        self.opportunities[key].append(None)\n",
    "            page += 1\n",
    "            time.sleep(self.sleep)\n",
    "        print(f'Checked {page} pages.')\n",
    "        self.opportunities = pd.DataFrame(self.opportunities)\n",
    "        print(f'Found {len(self.opportunities)} results.')\n",
    "        return self.opportunities.drop_duplicates()\n",
    " \n",
    "\n",
    "    def _addAttributes(self, divs):\n",
    "        usedKeys = set()\n",
    "        prefix = 'DataLayerManager.dynamic'\n",
    "        for line in str(divs).split('\\n'):\n",
    "            if prefix in line.strip():\n",
    "                key, val = line.strip().removeprefix(prefix).split('=')\n",
    "                val = val.strip('; \"')\n",
    "                key = key.strip()\n",
    "                if ',' in val:\n",
    "                    val = tuple(sorted(val.split(',')))\n",
    "                self.opportunities[key].append(val)\n",
    "                usedKeys.add(key)\n",
    "        return usedKeys\n",
    "\n",
    "    #This is the informtion we are trying to retrive from the HTML website\n",
    "    @property\n",
    "    def _validKeys(self):\n",
    "        return set([\n",
    "            'DisciplineIds', 'DisciplineNames', 'SubjectIds',\n",
    "            'SubjectNames', 'LocationCountryName', 'LocationCityName',\n",
    "            'ProgrammeTypes', 'IId', 'InstitutionName', 'DId',\n",
    "            'DepartmentName', 'FundingTypes'])\n",
    "    \n",
    "    \n",
    "    def _parseURL(self, url):\n",
    "        headers = {\n",
    "            'Access-Control-Allow-Origin': '*',\n",
    "            'Access-Control-Allow-Methods': 'GET',\n",
    "            'Access-Control-Allow-Headers': 'Content-Type',\n",
    "            'Access-Control-Max-Age': '3600',\n",
    "            'User-Agent': 'Mozilla/5.0 (X11; Ubuntu; Linux x86_64; rv:52.0) Gecko/20100101 Firefox/52.0'\n",
    "        }\n",
    "        req = requests.get(url, headers)\n",
    "        soup = BeautifulSoup(req.content, 'html.parser')\n",
    "        result_class = 'resultsRow'\n",
    "        return soup.find_all(\"div\", class_=result_class)\n",
    "\n",
    "    \n",
    "    def _getTitle(self, divs):\n",
    "        out = divs.find('h3') \n",
    "        if out is not None:\n",
    "            return out.get_text().strip()\n",
    "        \n",
    "        \n",
    "    def _getread_more(self,divs):\n",
    "        out = divs.find('a', class_='phd-result__description--read-more') \n",
    "        if out is not None:\n",
    "            return 'https://www.findaphd.com' + out.get('href')\n",
    "    \n",
    "    \n",
    "    def _getDescription(self, divs):\n",
    "        out = divs.find('div', class_='descFrag')\n",
    "        if out is not None:\n",
    "            return out.get_text().strip()\n",
    "        \n",
    "        \n",
    "    def _getDeadline(self, divs):\n",
    "        class_ = ('hoverTitle subButton badge text-wrap badge-light '\n",
    "                  'card-badge p-2 m-1 font-weight-light')\n",
    "        out = divs.find('a', class_=class_)\n",
    "        if out is not None:\n",
    "            deadline = out.get_text().strip()\n",
    "            if deadline == 'Year round applications':\n",
    "                return None\n",
    "            else:\n",
    "                return deadline"
   ]
  },
  {
   "cell_type": "code",
   "execution_count": 3,
   "metadata": {},
   "outputs": [],
   "source": [
    "a = PhdBot()"
   ]
  },
  {
   "cell_type": "code",
   "execution_count": 8,
   "metadata": {},
   "outputs": [
    {
     "data": {
      "text/plain": [
       "'/Users/user/Library/CloudStorage/OneDrive-Nexus365/PhD/Internship/NLP_projects'"
      ]
     },
     "execution_count": 8,
     "metadata": {},
     "output_type": "execute_result"
    }
   ],
   "source": [
    "pwd"
   ]
  },
  {
   "cell_type": "code",
   "execution_count": 9,
   "metadata": {},
   "outputs": [
    {
     "name": "stdout",
     "output_type": "stream",
     "text": [
      "Checked 1 pages.\n",
      "Found 0 results.\n"
     ]
    }
   ],
   "source": [
    "opportunities = a.generate_opportunities()\n",
    "opportunities.to_pickle(f'../Data/{date.today()}.pkl')"
   ]
  },
  {
   "cell_type": "code",
   "execution_count": null,
   "metadata": {},
   "outputs": [],
   "source": [
    "path = '../Data/PhD_opportunities_24_10_2022.tsv'\n",
    "opportunities.to_csv(path, sep='\\t', header=True)"
   ]
  },
  {
   "cell_type": "code",
   "execution_count": null,
   "metadata": {},
   "outputs": [],
   "source": [
    "opportunities = pd.read_pickle('../Data/2022-10-24.pkl')"
   ]
  },
  {
   "cell_type": "code",
   "execution_count": null,
   "metadata": {},
   "outputs": [],
   "source": [
    "index = 'URL'\n",
    "assert opportunities[index].value_counts().max() == 1"
   ]
  },
  {
   "cell_type": "code",
   "execution_count": null,
   "metadata": {},
   "outputs": [],
   "source": [
    "discipline = opportunities[[index, 'DisciplineNames']].explode('DisciplineNames')\n",
    "discipline.to_csv('../Data/PhD_opportunities_24_10_2022_discipline.tsv',sep='\\t',header = True)"
   ]
  },
  {
   "cell_type": "code",
   "execution_count": null,
   "metadata": {},
   "outputs": [],
   "source": [
    "subject_name = opportunities[[index, 'SubjectNames']].explode('SubjectNames')\n",
    "subject_name.to_csv('../Data/PhD_opportunities_24_10_2022_subject_name.tsv',sep='\\t',header = True)"
   ]
  },
  {
   "cell_type": "code",
   "execution_count": null,
   "metadata": {},
   "outputs": [],
   "source": [
    "opportunities['LocationCityName'].explode().value_counts().sort_values()"
   ]
  },
  {
   "cell_type": "code",
   "execution_count": null,
   "metadata": {},
   "outputs": [],
   "source": [
    "opportunities['DepartmentName'].explode().value_counts().sort_values() "
   ]
  },
  {
   "cell_type": "code",
   "execution_count": null,
   "metadata": {},
   "outputs": [],
   "source": [
    "opportunities.groupby('LocationCountryName')['DisciplineNames'].apply(\n",
    "    lambda x: x.explode().value_counts().sort_values().tail(1))"
   ]
  },
  {
   "cell_type": "code",
   "execution_count": null,
   "metadata": {},
   "outputs": [],
   "source": [
    "opportunities.groupby('LocationCountryName')['FundingTypes'].apply(\n",
    "    lambda x: x.explode().value_counts().sort_values().tail(1))"
   ]
  },
  {
   "cell_type": "code",
   "execution_count": null,
   "metadata": {},
   "outputs": [],
   "source": [
    "opportunities.groupby('SubjectNames')['FundingTypes'].apply(\n",
    "    lambda x: x.explode().value_counts().sort_values())"
   ]
  },
  {
   "cell_type": "code",
   "execution_count": null,
   "metadata": {},
   "outputs": [],
   "source": [
    "keys = []\n",
    "for line in str(opportunities).split('\\n'):\n",
    "    if 'DataLayerManager' in line.strip():\n",
    "        key, val = line.strip().removeprefix('DataLayerManager.dynamic').split('=')\n",
    "        val = val.strip('; \"')\n",
    "        if ',' in val:\n",
    "            val = tuple(sorted(val.split(',')))\n",
    "        keys.append(key)"
   ]
  },
  {
   "cell_type": "code",
   "execution_count": null,
   "metadata": {},
   "outputs": [],
   "source": [
    "g = opportunities.find('a', class_='hoverTitle subButton badge text-wrap badge-light card-badge p-2 m-1 font-weight-light').get_text().strip()"
   ]
  },
  {
   "cell_type": "code",
   "execution_count": null,
   "metadata": {},
   "outputs": [],
   "source": [
    "g"
   ]
  },
  {
   "cell_type": "code",
   "execution_count": null,
   "metadata": {},
   "outputs": [],
   "source": [
    "g.find(class_='fas fa-calendar fa-icon')"
   ]
  },
  {
   "cell_type": "code",
   "execution_count": null,
   "metadata": {},
   "outputs": [],
   "source": [
    "opportunities.to_csv('../Data/PhD_opportunities_17_10_2022.csv',sep=',',header = True)"
   ]
  },
  {
   "cell_type": "code",
   "execution_count": null,
   "metadata": {},
   "outputs": [],
   "source": [
    "for opportunity in opportunities:\n",
    "   print(opportunity.title)"
   ]
  },
  {
   "cell_type": "code",
   "execution_count": null,
   "metadata": {},
   "outputs": [],
   "source": [
    "df = pd.DataFrame(opportunities)\n",
    "df.to_csv('../Data/PhD_opportunities_17_10_2022.tsv',sep='\\t',header = True)"
   ]
  },
  {
   "cell_type": "code",
   "execution_count": null,
   "metadata": {},
   "outputs": [],
   "source": [
    "df"
   ]
  },
  {
   "cell_type": "code",
   "execution_count": null,
   "metadata": {},
   "outputs": [],
   "source": [
    "new_list = []\n",
    "for opp in opportunities:\n",
    "  new_list.append([opp.title,opp.university,opp.description,opp.fund])\n",
    "df = pd.DataFrame(new_list)"
   ]
  },
  {
   "cell_type": "code",
   "execution_count": null,
   "metadata": {},
   "outputs": [],
   "source": [
    "opp.university"
   ]
  },
  {
   "cell_type": "code",
   "execution_count": null,
   "metadata": {},
   "outputs": [],
   "source": [
    "df = df.rename(columns={0:'PhD_Title',1:'Úniversity_Name',2:'Description',3:'funding_information'})"
   ]
  },
  {
   "cell_type": "code",
   "execution_count": null,
   "metadata": {},
   "outputs": [],
   "source": [
    "a = (1,2)\n",
    "print(type(a))"
   ]
  },
  {
   "cell_type": "code",
   "execution_count": null,
   "metadata": {},
   "outputs": [],
   "source": [
    "df"
   ]
  },
  {
   "cell_type": "code",
   "execution_count": null,
   "metadata": {},
   "outputs": [],
   "source": [
    "df.to_csv('../Data/PhD_opportunities_17_10_2022.csv')"
   ]
  },
  {
   "cell_type": "code",
   "execution_count": null,
   "metadata": {},
   "outputs": [],
   "source": [
    "df.describe()"
   ]
  },
  {
   "cell_type": "code",
   "execution_count": null,
   "metadata": {},
   "outputs": [],
   "source": [
    "type(df)"
   ]
  },
  {
   "cell_type": "code",
   "execution_count": null,
   "metadata": {},
   "outputs": [],
   "source": []
  }
 ],
 "metadata": {
  "kernelspec": {
   "display_name": "Python 3",
   "language": "python",
   "name": "python3"
  },
  "language_info": {
   "codemirror_mode": {
    "name": "ipython",
    "version": 3
   },
   "file_extension": ".py",
   "mimetype": "text/x-python",
   "name": "python",
   "nbconvert_exporter": "python",
   "pygments_lexer": "ipython3",
   "version": "3.8.3"
  }
 },
 "nbformat": 4,
 "nbformat_minor": 5
}
