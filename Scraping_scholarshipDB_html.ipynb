{
 "cells": [
  {
   "cell_type": "code",
   "execution_count": 5,
   "id": "b16ece44",
   "metadata": {},
   "outputs": [],
   "source": [
    "import re\n",
    "import time\n",
    "import urllib3\n",
    "import requests\n",
    "import pandas as pd\n",
    "from bs4 import BeautifulSoup\n",
    "from collections import defaultdict\n",
    "\n",
    "urllib3.disable_warnings() # Fix the warnings!\n",
    "from collections import Counter\n",
    "import nltk\n",
    "import string\n",
    "from nltk.tokenize import word_tokenize"
   ]
  },
  {
   "cell_type": "code",
   "execution_count": 40,
   "id": "65a36a48",
   "metadata": {},
   "outputs": [],
   "source": [
    "base = 'https://scholarshipdb.net/scholarships-in-United-States/Ph-D-Assistantship-Climate-Change-Responses-In-Coastal-Arctic-Wetlands-Utah-State-University=NhoiTd9j7RGUYQAlkGUTnw.html'\n",
    "html_text = requests.get(base, verify=False)\n",
    "soup = BeautifulSoup(html_text.content, \"html.parser\")"
   ]
  },
  {
   "cell_type": "code",
   "execution_count": 41,
   "id": "70e87289",
   "metadata": {},
   "outputs": [
    {
     "name": "stdout",
     "output_type": "stream",
     "text": [
      "\n",
      "\n",
      "<li><a data-ev-action=\"PhD\" data-ev-cat=\"Nav\" href=\"/PhD-scholarships\">PhD</a></li>\n",
      "\n",
      "\n",
      "<li><a data-ev-action=\"Postdoctoral\" data-ev-cat=\"Nav\" href=\"/Postdoctoral-scholarships\">Postdoctoral</a></li>\n",
      "\n",
      "\n",
      "<li><a data-ev-action=\"Master\" data-ev-cat=\"Nav\" href=\"/scholarships/Program-Master\">Master</a></li>\n",
      "\n",
      "\n",
      "<li><a data-ev-action=\"Undergraduate\" data-ev-cat=\"Nav\" href=\"/scholarships/Program-Undergraduate\">Undergraduate</a></li>\n",
      "\n",
      "\n",
      "<li>\n",
      "<a data-ev-action=\"Featured\" data-ev-cat=\"Nav\" href=\"/scholarships/Tags-Featured\">\n",
      "<i class=\"glyphicon glyphicon-star red\"></i> Featured\n",
      "                </a>\n",
      "</li>\n",
      "\n",
      "\n",
      "<li><a data-ev-action=\"Universities\" data-ev-cat=\"Nav\" href=\"/universities\">Universities</a></li>\n",
      "\n",
      "\n",
      "<li><a data-ev-action=\"Blogs\" data-ev-cat=\"Nav\" href=\"/blogs\">Blogs</a></li>\n",
      "\n",
      "\n",
      "<li><a data-ev-action=\"Browse\" data-ev-cat=\"Nav\" href=\"/scholarships-browse\">Browse</a></li>\n",
      "\n",
      "\n"
     ]
    }
   ],
   "source": [
    "for child in soup.ul.children:\n",
    "    print(child)"
   ]
  },
  {
   "cell_type": "code",
   "execution_count": 45,
   "id": "12597878",
   "metadata": {},
   "outputs": [],
   "source": [
    "allPhD = defaultdict(list)\n",
    "allPhD['Title'].append(soup.find('h1').find('a').text)"
   ]
  },
  {
   "cell_type": "code",
   "execution_count": 47,
   "id": "7c08bf43",
   "metadata": {},
   "outputs": [],
   "source": [
    "allPhD['location'].append(soup.find('h2').find('a').text)"
   ]
  },
  {
   "cell_type": "code",
   "execution_count": 61,
   "id": "8fe00718",
   "metadata": {},
   "outputs": [
    {
     "data": {
      "text/plain": [
       "['United States',\n",
       " 'Utah State University, Dept. of Geosciences',\n",
       " 'United States',\n",
       " 'Utah State University (Department of Civil and Environmental Engineering)',\n",
       " 'United States']"
      ]
     },
     "execution_count": 61,
     "metadata": {},
     "output_type": "execute_result"
    }
   ],
   "source": [
    "#Useful for uni, location, department, country\n",
    "list_meta = soup.find_all(attrs={'class':'text-success'})\n",
    "[i.text for i in list_meta]"
   ]
  },
  {
   "cell_type": "code",
   "execution_count": 68,
   "id": "3f325095",
   "metadata": {},
   "outputs": [],
   "source": [
    "list_describe = soup.find_all(attrs={'class':'description'})"
   ]
  },
  {
   "cell_type": "code",
   "execution_count": 78,
   "id": "fbb634c2",
   "metadata": {},
   "outputs": [],
   "source": [
    "description = soup.find(attrs={'class':'description'})"
   ]
  },
  {
   "cell_type": "code",
   "execution_count": 112,
   "id": "a1c480ad",
   "metadata": {},
   "outputs": [
    {
     "name": "stdout",
     "output_type": "stream",
     "text": [
      "Help on method get_text in module bs4.element:\n",
      "\n",
      "get_text(separator='', strip=False, types=<object object at 0x000001C09A636630>) method of bs4.element.Tag instance\n",
      "    Get all child strings of this PageElement, concatenated using the\n",
      "    given separator.\n",
      "    \n",
      "    :param separator: Strings will be concatenated using this separator.\n",
      "    \n",
      "    :param strip: If True, strings will be stripped before being\n",
      "        concatenated.\n",
      "    \n",
      "    :param types: A tuple of NavigableString subclasses. Any\n",
      "        strings of a subclass not found in this list will be\n",
      "        ignored. Although there are exceptions, the default\n",
      "        behavior in most cases is to consider only NavigableString\n",
      "        and CData objects. That means no comments, processing\n",
      "        instructions, etc.\n",
      "    \n",
      "    :return: A string.\n",
      "\n"
     ]
    }
   ],
   "source": [
    "help(description.get_text)"
   ]
  },
  {
   "cell_type": "code",
   "execution_count": 144,
   "id": "42d2d480",
   "metadata": {},
   "outputs": [],
   "source": [
    "description_df = re.split(r'<dt>|</dt>',str(description))"
   ]
  },
  {
   "cell_type": "code",
   "execution_count": 149,
   "id": "cd508937",
   "metadata": {},
   "outputs": [
    {
     "data": {
      "text/plain": [
       "['<div class=\"description\">\\n<br/>Click for a hub of Extension resources related to the current COVID-19 situation.<br/><dl>',\n",
       " 'Agency',\n",
       " '<dd>Utah State University</dd>',\n",
       " 'Location',\n",
       " '<dd>Logan, UT; YK Delta, Alaska</dd>',\n",
       " 'Job Category',\n",
       " '<dd>Graduate Assistantships</dd>',\n",
       " 'Salary',\n",
       " '<dd>$24,000/yr</dd>',\n",
       " 'Start Date',\n",
       " '<dd>05/01/2023</dd>',\n",
       " 'Last Date to Apply',\n",
       " '<dd>12/15/2022</dd>',\n",
       " 'Website',\n",
       " '<dd>https://karenhbeard.webs.com/ </dd>',\n",
       " 'Description',\n",
       " '<dd>A PhD student position is available to participate in an NSF-funded project examining the interaction of multiple climate change forcings on vegetation and ecosystem functioning in Arctic wetlands through field and laboratory research. Field work is conducted in the Yukon-Kuskokwim Delta in Alaska and will involve an experiment with flooding, warming, and herbivory treatments followed by measurements of vegetation responses, and CO2 and CH4 gas fluxes. The successful candidate must start no later than 1 May 2023 (although 1 April 2023 is preferred), and be willing to work 3 months each summer in an extremely remote setting in western Alaska (e.g., no internet service, no running water). This work is in collaboration between faculty at South Dakota State University, the University of Colorado-Denver and Utah State University, and the student would interact with personnel from each location. The successful candidate will receive a tuition waiver; a 12-month stipend ($24,000/yr); and room, board and travel expenses during the summer field seasons. Four years of funding is available.</dd>',\n",
       " 'Qualifications',\n",
       " '<dd>Required Qualifications: (1) A BS/BA degree in Biology, Ecology, Environmental Science, Natural Resource Management, or related field by December 2022; (2) strong academic record including previous research experience; (3) quantitative skills including introductory R; (4) excellent written and oral communication skills.\\n\\nPreferred Qualifications: (1) Prior experience conducting field research in or living in remote settings for extended periods; (2) experience with ATVs and small craft boats: (3) experience in plant identification; (4) experience with LICOR or other gas exchange systems; (5) MS degree preferred.</dd>',\n",
       " 'Contact Person',\n",
       " '<dd>Karen H Beard</dd>',\n",
       " 'Contact Phone',\n",
       " '<dd>4357978220</dd>',\n",
       " 'Contact eMail',\n",
       " '<dd>karen.beard@usu.edu </dd></dl><br/>Bookmark the permalink .\\t\\t\\t\\t\\t\\t\\t\\t\\t\\t\\t\\t\\t  <p>\\n      Comments are closed.    </p><br/>\\n</div>']"
      ]
     },
     "execution_count": 149,
     "metadata": {},
     "output_type": "execute_result"
    }
   ],
   "source": [
    "description_df"
   ]
  },
  {
   "cell_type": "code",
   "execution_count": 151,
   "id": "8a340f35",
   "metadata": {},
   "outputs": [],
   "source": [
    "University_name = description_df[2]"
   ]
  },
  {
   "cell_type": "code",
   "execution_count": 154,
   "id": "98d92366",
   "metadata": {},
   "outputs": [],
   "source": [
    "Location = description_df[4]"
   ]
  },
  {
   "cell_type": "code",
   "execution_count": 157,
   "id": "51c0834f",
   "metadata": {},
   "outputs": [],
   "source": [
    "Job_category = description_df[6]"
   ]
  },
  {
   "cell_type": "code",
   "execution_count": 159,
   "id": "24a69e34",
   "metadata": {},
   "outputs": [],
   "source": [
    "Salary = description_df[8]"
   ]
  },
  {
   "cell_type": "code",
   "execution_count": 161,
   "id": "953944f5",
   "metadata": {},
   "outputs": [],
   "source": [
    "Start_date = description_df[10]"
   ]
  },
  {
   "cell_type": "code",
   "execution_count": 167,
   "id": "6d201967",
   "metadata": {},
   "outputs": [],
   "source": [
    "Description = description_df[16]"
   ]
  },
  {
   "cell_type": "code",
   "execution_count": 142,
   "id": "a297c8fe",
   "metadata": {},
   "outputs": [],
   "source": [
    "description_df = ' '.join(re.split(r'<..>|<...>', str(description)))"
   ]
  },
  {
   "cell_type": "code",
   "execution_count": 143,
   "id": "71531d74",
   "metadata": {},
   "outputs": [
    {
     "data": {
      "text/plain": [
       "'<div class=\"description\">\\n Click for a hub of Extension resources related to the current COVID-19 situation.   Agency  Utah State University  Location  Logan, UT; YK Delta, Alaska  Job Category  Graduate Assistantships  Salary  $24,000/yr  Start Date  05/01/2023  Last Date to Apply  12/15/2022  Website  https://karenhbeard.webs.com/   Description  A PhD student position is available to participate in an NSF-funded project examining the interaction of multiple climate change forcings on vegetation and ecosystem functioning in Arctic wetlands through field and laboratory research. Field work is conducted in the Yukon-Kuskokwim Delta in Alaska and will involve an experiment with flooding, warming, and herbivory treatments followed by measurements of vegetation responses, and CO2 and CH4 gas fluxes. The successful candidate must start no later than 1 May 2023 (although 1 April 2023 is preferred), and be willing to work 3 months each summer in an extremely remote setting in western Alaska (e.g., no internet service, no running water). This work is in collaboration between faculty at South Dakota State University, the University of Colorado-Denver and Utah State University, and the student would interact with personnel from each location. The successful candidate will receive a tuition waiver; a 12-month stipend ($24,000/yr); and room, board and travel expenses during the summer field seasons. Four years of funding is available.  Qualifications  Required Qualifications: (1) A BS/BA degree in Biology, Ecology, Environmental Science, Natural Resource Management, or related field by December 2022; (2) strong academic record including previous research experience; (3) quantitative skills including introductory R; (4) excellent written and oral communication skills.\\n\\nPreferred Qualifications: (1) Prior experience conducting field research in or living in remote settings for extended periods; (2) experience with ATVs and small craft boats: (3) experience in plant identification; (4) experience with LICOR or other gas exchange systems; (5) MS degree preferred.  Contact Person  Karen H Beard  Contact Phone  4357978220  Contact eMail  karen.beard@usu.edu    Bookmark the permalink .\\t\\t\\t\\t\\t\\t\\t\\t\\t\\t\\t\\t\\t  <p>\\n      Comments are closed.      \\n</div>'"
      ]
     },
     "execution_count": 143,
     "metadata": {},
     "output_type": "execute_result"
    }
   ],
   "source": [
    "description_df"
   ]
  },
  {
   "cell_type": "code",
   "execution_count": 140,
   "id": "22fe54b3",
   "metadata": {},
   "outputs": [
    {
     "ename": "SyntaxError",
     "evalue": "'break' outside loop (3658247088.py, line 4)",
     "output_type": "error",
     "traceback": [
      "\u001b[1;36m  Input \u001b[1;32mIn [140]\u001b[1;36m\u001b[0m\n\u001b[1;33m    break\u001b[0m\n\u001b[1;37m    ^\u001b[0m\n\u001b[1;31mSyntaxError\u001b[0m\u001b[1;31m:\u001b[0m 'break' outside loop\n"
     ]
    }
   ],
   "source": [
    "# Create a parser instance able to parse invalid markup.\n",
    "links = soup.select(\".list-unstyled h4 a\")\n",
    "if len(links) == 0:\n",
    "    break\n",
    "for link in links:\n",
    "    link = f'https://scholarshipdb.net{link.get(\"href\")}'\n",
    "    html = requests.get(link, verify=False)\n",
    "    soup2 = BeautifulSoup(html.text, 'html.parser')\n",
    "    allPhD['title'].append(soup2.find('head').title.text)\n",
    "    allPhD['location'].append(soup2.find('h2').find('a').text)\n",
    "    allPhD['keywords'].append(soup2.find('meta',attrs={\"name\": 'keywords'})['content'])\n",
    "    allPhD['meta'].append(soup2.find('meta',attrs={\"name\": 'description'})['content'])\n",
    "    allPhD['description'].append(soup2.find('div', attrs={'class': 'description'}).text.strip())\n",
    "    time.sleep(5)\n",
    "    page += 1\n",
    "allPhD = pd.DataFrame(allPhD)\n",
    "allPhD.to_pickle(f'scraping_scholarshipDB_dataframe-{startPage}-{page}.pkl')"
   ]
  },
  {
   "cell_type": "code",
   "execution_count": null,
   "id": "b71e2ba2",
   "metadata": {},
   "outputs": [],
   "source": [
    "# Make lower case, remove non-useful chars\n",
    "description_df = re.sub(r'[^a-z0-9/:.,$@]+', ' ', description_df.lower())\n",
    "# Remove multiple spaces\n",
    "description_df = ' '.join(description_df.split())"
   ]
  }
 ],
 "metadata": {
  "kernelspec": {
   "display_name": "Python 3 (ipykernel)",
   "language": "python",
   "name": "python3"
  },
  "language_info": {
   "codemirror_mode": {
    "name": "ipython",
    "version": 3
   },
   "file_extension": ".py",
   "mimetype": "text/x-python",
   "name": "python",
   "nbconvert_exporter": "python",
   "pygments_lexer": "ipython3",
   "version": "3.9.12"
  }
 },
 "nbformat": 4,
 "nbformat_minor": 5
}
