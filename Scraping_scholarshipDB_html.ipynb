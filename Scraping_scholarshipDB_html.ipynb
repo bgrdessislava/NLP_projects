{
 "cells": [
  {
   "cell_type": "code",
   "execution_count": 5,
   "id": "997c5464",
   "metadata": {},
   "outputs": [],
   "source": [
    "import re\n",
    "import time\n",
    "import urllib3\n",
    "import requests\n",
    "import pandas as pd\n",
    "from bs4 import BeautifulSoup\n",
    "from collections import defaultdict\n",
    "\n",
    "urllib3.disable_warnings() # Fix the warnings!\n",
    "from collections import Counter\n",
    "import nltk\n",
    "import string\n",
    "from nltk.tokenize import word_tokenize\n",
    "import re"
   ]
  },
  {
   "cell_type": "code",
   "execution_count": 6,
   "id": "1a86689b",
   "metadata": {},
   "outputs": [],
   "source": [
    "#This is the wb link for all the USA and we change the page numbers\n",
    "base = 'https://scholarshipdb.net/PhD-scholarships-in-United-States?page=1'"
   ]
  },
  {
   "cell_type": "code",
   "execution_count": null,
   "id": "526d4f2e",
   "metadata": {},
   "outputs": [],
   "source": [
    "base = 'https://scholarshipdb.net/PhD-scholarships-in-United-States?page=1'\n",
    "url = base.format(page)\n",
    "html_text = requests.get(base)\n",
    "soup = BeautifulSoup(html_text.content, \"html.parser\")\n",
    "# Create a parser instance able to parse invalid markup.\n",
    "links = soup.select(\".list-unstyled h4 a\")\n",
    "if len(links) == 0:\n",
    "    break\n",
    "for link in links:\n",
    "    link = f'https://scholarshipdb.net{link.get(\"href\")}'\n",
    "    html = requests.get(link, verify=False)\n",
    "    soup2 = BeautifulSoup(html.text, 'html.parser')\n",
    "    allPhD['title'].append(soup2.find('head').title.text)\n",
    "    allPhD['location'].append(soup2.find('h2').find('a').text)\n",
    "    allPhD['keywords'].append(soup2.find('meta',attrs={\"name\": 'keywords'})['content'])\n",
    "    allPhD['meta'].append(soup2.find('meta',attrs={\"name\": 'description'})['content'])\n",
    "    allPhD['description'].append(soup2.find('div', attrs={'class': 'description'}).text.strip())\n",
    "    time.sleep(5)\n",
    "    page += 1\n",
    "allPhD = pd.DataFrame(allPhD)\n",
    "allPhD.to_pickle(f'scraping_scholarshipDB_dataframe-{startPage}-{page}.pkl')"
   ]
  }
 ],
 "metadata": {
  "kernelspec": {
   "display_name": "Python 3 (ipykernel)",
   "language": "python",
   "name": "python3"
  },
  "language_info": {
   "codemirror_mode": {
    "name": "ipython",
    "version": 3
   },
   "file_extension": ".py",
   "mimetype": "text/x-python",
   "name": "python",
   "nbconvert_exporter": "python",
   "pygments_lexer": "ipython3",
   "version": "3.9.12"
  }
 },
 "nbformat": 4,
 "nbformat_minor": 5
}
