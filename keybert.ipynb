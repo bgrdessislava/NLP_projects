{
 "cells": [
  {
   "cell_type": "code",
   "execution_count": null,
   "metadata": {},
   "outputs": [],
   "source": [
    "!pip install keybert"
   ]
  },
  {
   "cell_type": "code",
   "execution_count": null,
   "metadata": {},
   "outputs": [],
   "source": [
    "#pip install pandas"
   ]
  },
  {
   "cell_type": "code",
   "execution_count": 1,
   "metadata": {},
   "outputs": [],
   "source": [
    "import pandas as pd\n",
    "import numpy as np"
   ]
  },
  {
   "cell_type": "code",
   "execution_count": 2,
   "metadata": {},
   "outputs": [
    {
     "ename": "SyntaxError",
     "evalue": "EOL while scanning string literal (<ipython-input-2-84212f8c7063>, line 11)",
     "output_type": "error",
     "traceback": [
      "\u001b[0;36m  File \u001b[0;32m\"<ipython-input-2-84212f8c7063>\"\u001b[0;36m, line \u001b[0;32m11\u001b[0m\n\u001b[0;31m    \"\"\"\"\u001b[0m\n\u001b[0m        \n^\u001b[0m\n\u001b[0;31mSyntaxError\u001b[0m\u001b[0;31m:\u001b[0m EOL while scanning string literal\n"
     ]
    }
   ],
   "source": [
    "\"\"\"\"\n",
    "#!pip install keyphrase-vectorizers\n",
    "#import torch\n",
    "#from flair.embeddings import TransformerDocumentEmbeddings\n",
    "!pip install flair\n",
    "from keybert import KeyBERT\n",
    "#from flair.embeddings import TransformerDocumentEmbeddings\n",
    "from keyphrase_vectorizers import KeyphraseCountVectorizer\n",
    "\n",
    "pip install transformers\n",
    "\"\"\"\""
   ]
  },
  {
   "cell_type": "code",
   "execution_count": 1,
   "metadata": {},
   "outputs": [
    {
     "name": "stdout",
     "output_type": "stream",
     "text": [
      "Collecting keyphrase-vectorizers\n",
      "  Using cached keyphrase_vectorizers-0.0.10-py3-none-any.whl (28 kB)\n",
      "Collecting spacy>=3.0.1\n",
      "  Using cached spacy-3.4.3-cp38-cp38-macosx_10_9_x86_64.whl (6.6 MB)\n",
      "Requirement already satisfied: scipy>=1.7.3 in /Users/user/opt/anaconda3/envs/KeyBert/lib/python3.8/site-packages (from keyphrase-vectorizers) (1.9.3)\n",
      "Collecting spacy-transformers>=1.1.6\n",
      "  Using cached spacy_transformers-1.1.8-py2.py3-none-any.whl (53 kB)\n",
      "Requirement already satisfied: nltk>=3.6.1 in /Users/user/opt/anaconda3/envs/KeyBert/lib/python3.8/site-packages (from keyphrase-vectorizers) (3.7)\n",
      "Requirement already satisfied: scikit-learn>=1.0 in /Users/user/opt/anaconda3/envs/KeyBert/lib/python3.8/site-packages (from keyphrase-vectorizers) (1.1.3)\n",
      "Requirement already satisfied: numpy>=1.18.5 in /Users/user/opt/anaconda3/envs/KeyBert/lib/python3.8/site-packages (from keyphrase-vectorizers) (1.23.5)\n",
      "Requirement already satisfied: psutil>=5.8.0 in /Users/user/opt/anaconda3/envs/KeyBert/lib/python3.8/site-packages (from keyphrase-vectorizers) (5.9.0)\n",
      "Requirement already satisfied: regex>=2021.8.3 in /Users/user/opt/anaconda3/envs/KeyBert/lib/python3.8/site-packages (from nltk>=3.6.1->keyphrase-vectorizers) (2022.10.31)\n",
      "Requirement already satisfied: tqdm in /Users/user/opt/anaconda3/envs/KeyBert/lib/python3.8/site-packages (from nltk>=3.6.1->keyphrase-vectorizers) (4.64.1)\n",
      "Requirement already satisfied: joblib in /Users/user/opt/anaconda3/envs/KeyBert/lib/python3.8/site-packages (from nltk>=3.6.1->keyphrase-vectorizers) (1.2.0)\n",
      "Requirement already satisfied: click in /Users/user/opt/anaconda3/envs/KeyBert/lib/python3.8/site-packages (from nltk>=3.6.1->keyphrase-vectorizers) (8.1.3)\n",
      "Requirement already satisfied: threadpoolctl>=2.0.0 in /Users/user/opt/anaconda3/envs/KeyBert/lib/python3.8/site-packages (from scikit-learn>=1.0->keyphrase-vectorizers) (3.1.0)\n",
      "Collecting srsly<3.0.0,>=2.4.3\n",
      "  Using cached srsly-2.4.5-cp38-cp38-macosx_10_9_x86_64.whl (489 kB)\n",
      "Collecting preshed<3.1.0,>=3.0.2\n",
      "  Using cached preshed-3.0.8-cp38-cp38-macosx_10_9_x86_64.whl (107 kB)\n",
      "Collecting catalogue<2.1.0,>=2.0.6\n",
      "  Using cached catalogue-2.0.8-py3-none-any.whl (17 kB)\n",
      "Requirement already satisfied: jinja2 in /Users/user/opt/anaconda3/envs/KeyBert/lib/python3.8/site-packages (from spacy>=3.0.1->keyphrase-vectorizers) (3.1.2)\n",
      "Collecting spacy-loggers<2.0.0,>=1.0.0\n",
      "  Using cached spacy_loggers-1.0.3-py3-none-any.whl (9.3 kB)\n",
      "Collecting thinc<8.2.0,>=8.1.0\n",
      "  Using cached thinc-8.1.5-cp38-cp38-macosx_10_9_x86_64.whl (754 kB)\n",
      "Collecting langcodes<4.0.0,>=3.2.0\n",
      "  Using cached langcodes-3.3.0-py3-none-any.whl (181 kB)\n",
      "Collecting pydantic!=1.8,!=1.8.1,<1.11.0,>=1.7.4\n",
      "  Using cached pydantic-1.10.2-cp38-cp38-macosx_10_9_x86_64.whl (3.1 MB)\n",
      "Collecting typer<0.8.0,>=0.3.0\n",
      "  Using cached typer-0.7.0-py3-none-any.whl (38 kB)\n",
      "Collecting murmurhash<1.1.0,>=0.28.0\n",
      "  Using cached murmurhash-1.0.9-cp38-cp38-macosx_10_9_x86_64.whl (18 kB)\n",
      "Collecting wasabi<1.1.0,>=0.9.1\n",
      "  Using cached wasabi-0.10.1-py3-none-any.whl (26 kB)\n",
      "Collecting pathy>=0.3.5\n",
      "  Using cached pathy-0.10.0-py3-none-any.whl (48 kB)\n",
      "Collecting spacy-legacy<3.1.0,>=3.0.10\n",
      "  Using cached spacy_legacy-3.0.10-py2.py3-none-any.whl (21 kB)\n",
      "Requirement already satisfied: packaging>=20.0 in /Users/user/opt/anaconda3/envs/KeyBert/lib/python3.8/site-packages (from spacy>=3.0.1->keyphrase-vectorizers) (21.3)\n",
      "Collecting cymem<2.1.0,>=2.0.2\n",
      "  Using cached cymem-2.0.7-cp38-cp38-macosx_10_9_x86_64.whl (32 kB)\n",
      "Requirement already satisfied: requests<3.0.0,>=2.13.0 in /Users/user/opt/anaconda3/envs/KeyBert/lib/python3.8/site-packages (from spacy>=3.0.1->keyphrase-vectorizers) (2.28.1)\n",
      "Requirement already satisfied: setuptools in /Users/user/opt/anaconda3/envs/KeyBert/lib/python3.8/site-packages (from spacy>=3.0.1->keyphrase-vectorizers) (65.5.0)\n",
      "Collecting spacy-alignments<1.0.0,>=0.7.2\n",
      "  Using cached spacy_alignments-0.8.6-cp38-cp38-macosx_10_9_x86_64.whl (319 kB)\n",
      "Collecting transformers<4.22.0,>=3.4.0\n",
      "  Using cached transformers-4.21.3-py3-none-any.whl (4.7 MB)\n",
      "Requirement already satisfied: torch>=1.6.0 in /Users/user/opt/anaconda3/envs/KeyBert/lib/python3.8/site-packages (from spacy-transformers>=1.1.6->keyphrase-vectorizers) (1.13.0)\n",
      "Requirement already satisfied: pyparsing!=3.0.5,>=2.0.2 in /Users/user/opt/anaconda3/envs/KeyBert/lib/python3.8/site-packages (from packaging>=20.0->spacy>=3.0.1->keyphrase-vectorizers) (3.0.9)\n",
      "Collecting smart-open<6.0.0,>=5.2.1\n",
      "  Using cached smart_open-5.2.1-py3-none-any.whl (58 kB)\n",
      "Requirement already satisfied: typing-extensions>=4.1.0 in /Users/user/opt/anaconda3/envs/KeyBert/lib/python3.8/site-packages (from pydantic!=1.8,!=1.8.1,<1.11.0,>=1.7.4->spacy>=3.0.1->keyphrase-vectorizers) (4.4.0)\n",
      "Requirement already satisfied: idna<4,>=2.5 in /Users/user/opt/anaconda3/envs/KeyBert/lib/python3.8/site-packages (from requests<3.0.0,>=2.13.0->spacy>=3.0.1->keyphrase-vectorizers) (3.4)\n",
      "Requirement already satisfied: urllib3<1.27,>=1.21.1 in /Users/user/opt/anaconda3/envs/KeyBert/lib/python3.8/site-packages (from requests<3.0.0,>=2.13.0->spacy>=3.0.1->keyphrase-vectorizers) (1.26.13)\n",
      "Requirement already satisfied: certifi>=2017.4.17 in /Users/user/opt/anaconda3/envs/KeyBert/lib/python3.8/site-packages (from requests<3.0.0,>=2.13.0->spacy>=3.0.1->keyphrase-vectorizers) (2022.9.24)\n",
      "Requirement already satisfied: charset-normalizer<3,>=2 in /Users/user/opt/anaconda3/envs/KeyBert/lib/python3.8/site-packages (from requests<3.0.0,>=2.13.0->spacy>=3.0.1->keyphrase-vectorizers) (2.1.1)\n",
      "Collecting confection<1.0.0,>=0.0.1\n",
      "  Using cached confection-0.0.3-py3-none-any.whl (32 kB)\n",
      "Collecting blis<0.8.0,>=0.7.8\n",
      "  Using cached blis-0.7.9-cp38-cp38-macosx_10_9_x86_64.whl (6.1 MB)\n",
      "Requirement already satisfied: huggingface-hub<1.0,>=0.1.0 in /Users/user/opt/anaconda3/envs/KeyBert/lib/python3.8/site-packages (from transformers<4.22.0,>=3.4.0->spacy-transformers>=1.1.6->keyphrase-vectorizers) (0.11.1)\n",
      "Requirement already satisfied: filelock in /Users/user/opt/anaconda3/envs/KeyBert/lib/python3.8/site-packages (from transformers<4.22.0,>=3.4.0->spacy-transformers>=1.1.6->keyphrase-vectorizers) (3.8.2)\n",
      "Requirement already satisfied: pyyaml>=5.1 in /Users/user/opt/anaconda3/envs/KeyBert/lib/python3.8/site-packages (from transformers<4.22.0,>=3.4.0->spacy-transformers>=1.1.6->keyphrase-vectorizers) (6.0)\n",
      "Collecting tokenizers!=0.11.3,<0.13,>=0.11.1\n",
      "  Using cached tokenizers-0.12.1-cp38-cp38-macosx_10_11_x86_64.whl (3.6 MB)\n",
      "Requirement already satisfied: MarkupSafe>=2.0 in /Users/user/opt/anaconda3/envs/KeyBert/lib/python3.8/site-packages (from jinja2->spacy>=3.0.1->keyphrase-vectorizers) (2.1.1)\n",
      "Installing collected packages: wasabi, tokenizers, cymem, typer, spacy-loggers, spacy-legacy, spacy-alignments, smart-open, pydantic, murmurhash, langcodes, catalogue, blis, srsly, preshed, pathy, transformers, confection, thinc, spacy, spacy-transformers, keyphrase-vectorizers\n",
      "  Attempting uninstall: tokenizers\n",
      "    Found existing installation: tokenizers 0.13.2\n",
      "    Uninstalling tokenizers-0.13.2:\n",
      "      Successfully uninstalled tokenizers-0.13.2\n",
      "  Attempting uninstall: transformers\n",
      "    Found existing installation: transformers 4.25.1\n",
      "    Uninstalling transformers-4.25.1:\n",
      "      Successfully uninstalled transformers-4.25.1\n",
      "Successfully installed blis-0.7.9 catalogue-2.0.8 confection-0.0.3 cymem-2.0.7 keyphrase-vectorizers-0.0.10 langcodes-3.3.0 murmurhash-1.0.9 pathy-0.10.0 preshed-3.0.8 pydantic-1.10.2 smart-open-5.2.1 spacy-3.4.3 spacy-alignments-0.8.6 spacy-legacy-3.0.10 spacy-loggers-1.0.3 spacy-transformers-1.1.8 srsly-2.4.5 thinc-8.1.5 tokenizers-0.12.1 transformers-4.21.3 typer-0.7.0 wasabi-0.10.1\n",
      "Note: you may need to restart the kernel to use updated packages.\n"
     ]
    }
   ],
   "source": [
    "#pip install keyphrase-vectorizers"
   ]
  },
  {
   "cell_type": "code",
   "execution_count": 2,
   "metadata": {},
   "outputs": [
    {
     "name": "stderr",
     "output_type": "stream",
     "text": [
      "/Users/user/opt/anaconda3/envs/KeyBert/lib/python3.8/site-packages/tqdm/auto.py:22: TqdmWarning: IProgress not found. Please update jupyter and ipywidgets. See https://ipywidgets.readthedocs.io/en/stable/user_install.html\n",
      "  from .autonotebook import tqdm as notebook_tqdm\n"
     ]
    }
   ],
   "source": [
    "from keyphrase_vectorizers import KeyphraseCountVectorizer"
   ]
  },
  {
   "cell_type": "code",
   "execution_count": null,
   "metadata": {},
   "outputs": [],
   "source": [
    "from keybert import KeyBERT\n",
    "\n",
    "docs = [\"\"\"Supervised learning is the machine learning task of learning a function that\n",
    "         maps an input to an output based on example input-output pairs. It infers a\n",
    "         function from labeled training data consisting of a set of training examples.\n",
    "         In supervised learning, each example is a pair consisting of an input object\n",
    "         (typically a vector) and a desired output value (also called the supervisory signal). \n",
    "         A supervised learning algorithm analyzes the training data and produces an inferred function, \n",
    "         which can be used for mapping new examples. An optimal scenario will allow for the \n",
    "         algorithm to correctly determine the class labels for unseen instances. This requires \n",
    "         the learning algorithm to generalize from the training data to unseen situations in a \n",
    "         'reasonable' way (see inductive bias).\"\"\", \n",
    "             \n",
    "        \"\"\"Keywords are defined as phrases that capture the main topics discussed in a document. \n",
    "        As they offer a brief yet precise summary of document content, they can be utilized for various applications. \n",
    "        In an information retrieval environment, they serve as an indication of document relevance for users, as the list \n",
    "        of keywords can quickly help to determine whether a given document is relevant to their interest. \n",
    "        As keywords reflect a document's main topics, they can be utilized to classify documents into groups \n",
    "        by measuring the overlap between the keywords assigned to them. Keywords are also used proactively \n",
    "        in information retrieval.\"\"\"]\n",
    "\n",
    "# Init KeyBERT\n",
    "kw_model = KeyBERT(model=\"allenai/scibert_scivocab_uncased\")"
   ]
  },
  {
   "cell_type": "code",
   "execution_count": null,
   "metadata": {},
   "outputs": [],
   "source": [
    "kw_model.extract_keywords(docs=docs, keyphrase_ngram_range=(1,2), top_n=3)"
   ]
  }
 ],
 "metadata": {
  "kernelspec": {
   "display_name": "Python 3",
   "language": "python",
   "name": "python3"
  },
  "language_info": {
   "codemirror_mode": {
    "name": "ipython",
    "version": 3
   },
   "file_extension": ".py",
   "mimetype": "text/x-python",
   "name": "python",
   "nbconvert_exporter": "python",
   "pygments_lexer": "ipython3",
   "version": "3.8.3"
  }
 },
 "nbformat": 4,
 "nbformat_minor": 5
}
