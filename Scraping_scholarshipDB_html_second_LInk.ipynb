{
 "cells": [
  {
   "cell_type": "code",
   "execution_count": 8,
   "metadata": {},
   "outputs": [],
   "source": [
    "import os\n",
    "import re\n",
    "import json\n",
    "import requests\n",
    "import pandas as pd\n",
    "from bs4 import BeautifulSoup"
   ]
  },
  {
   "cell_type": "code",
   "execution_count": 9,
   "metadata": {},
   "outputs": [],
   "source": [
    "def process_description(soup):\n",
    "    description = soup.find(attrs={'class':'description'})\n",
    "    \n",
    "    aggregated_text = {}\n",
    "    aggregated_text[\"university_name\"] = soup.find('h2').find('a').text\n",
    "    aggregated_text['FullText'] = description.text\n",
    "    headers = re.findall(r\"<dt>[^<]*</dt>\", str(description))\n",
    "    texts = re.findall(r\"<dd>[^<]*</dd>\", str(description))\n",
    "    if (len(headers) == 0) or (len(headers) != len(texts)):\n",
    "         return aggregated_text\n",
    "    for header, text in zip(headers, texts):\n",
    "        header = header[4:-5]\n",
    "        text = text[4:-5]\n",
    "        aggregated_text[header] = text\n",
    "    return aggregated_text"
   ]
  },
  {
   "cell_type": "code",
   "execution_count": 10,
   "metadata": {},
   "outputs": [],
   "source": [
    "time.sleep(5)"
   ]
  },
  {
   "cell_type": "code",
   "execution_count": 12,
   "metadata": {},
   "outputs": [
    {
     "name": "stderr",
     "output_type": "stream",
     "text": [
      "/opt/anaconda3/lib/python3.8/site-packages/urllib3/connectionpool.py:979: InsecureRequestWarning: Unverified HTTPS request is being made to host 'scholarshipdb.net'. Adding certificate verification is strongly advised. See: https://urllib3.readthedocs.io/en/latest/advanced-usage.html#ssl-warnings\n",
      "  warnings.warn(\n"
     ]
    },
    {
     "name": "stdout",
     "output_type": "stream",
     "text": [
      "Processing page 1 - found 10 links.\n"
     ]
    },
    {
     "name": "stderr",
     "output_type": "stream",
     "text": [
      "/opt/anaconda3/lib/python3.8/site-packages/urllib3/connectionpool.py:979: InsecureRequestWarning: Unverified HTTPS request is being made to host 'scholarshipdb.net'. Adding certificate verification is strongly advised. See: https://urllib3.readthedocs.io/en/latest/advanced-usage.html#ssl-warnings\n",
      "  warnings.warn(\n"
     ]
    },
    {
     "ename": "TypeError",
     "evalue": "list indices must be integers or slices, not str",
     "output_type": "error",
     "traceback": [
      "\u001b[0;31m---------------------------------------------------------------------------\u001b[0m",
      "\u001b[0;31mTypeError\u001b[0m                                 Traceback (most recent call last)",
      "\u001b[0;32m<ipython-input-12-9632dcd06e63>\u001b[0m in \u001b[0;36m<module>\u001b[0;34m\u001b[0m\n\u001b[1;32m     16\u001b[0m         \u001b[0mhtml_text_phd\u001b[0m \u001b[0;34m=\u001b[0m \u001b[0mrequests\u001b[0m\u001b[0;34m.\u001b[0m\u001b[0mget\u001b[0m\u001b[0;34m(\u001b[0m\u001b[0murl\u001b[0m\u001b[0;34m,\u001b[0m \u001b[0mverify\u001b[0m\u001b[0;34m=\u001b[0m\u001b[0;32mFalse\u001b[0m\u001b[0;34m)\u001b[0m\u001b[0;34m\u001b[0m\u001b[0;34m\u001b[0m\u001b[0m\n\u001b[1;32m     17\u001b[0m         \u001b[0msoup_phd\u001b[0m \u001b[0;34m=\u001b[0m \u001b[0mBeautifulSoup\u001b[0m\u001b[0;34m(\u001b[0m\u001b[0mhtml_text_phd\u001b[0m\u001b[0;34m.\u001b[0m\u001b[0mcontent\u001b[0m\u001b[0;34m,\u001b[0m \u001b[0;34m\"html.parser\"\u001b[0m\u001b[0;34m)\u001b[0m\u001b[0;34m\u001b[0m\u001b[0;34m\u001b[0m\u001b[0m\n\u001b[0;32m---> 18\u001b[0;31m         \u001b[0mall_links\u001b[0m\u001b[0;34m[\u001b[0m\u001b[0murl\u001b[0m\u001b[0;34m]\u001b[0m \u001b[0;34m=\u001b[0m \u001b[0mprocess_description\u001b[0m\u001b[0;34m(\u001b[0m\u001b[0msoup_phd\u001b[0m\u001b[0;34m)\u001b[0m\u001b[0;34m\u001b[0m\u001b[0;34m\u001b[0m\u001b[0m\n\u001b[0m\u001b[1;32m     19\u001b[0m     \u001b[0;32mwith\u001b[0m \u001b[0mopen\u001b[0m\u001b[0;34m(\u001b[0m\u001b[0moutJson\u001b[0m\u001b[0;34m,\u001b[0m \u001b[0;34m\"w\"\u001b[0m\u001b[0;34m)\u001b[0m \u001b[0;32mas\u001b[0m \u001b[0mfp\u001b[0m\u001b[0;34m:\u001b[0m\u001b[0;34m\u001b[0m\u001b[0;34m\u001b[0m\u001b[0m\n\u001b[1;32m     20\u001b[0m         \u001b[0mjson\u001b[0m\u001b[0;34m.\u001b[0m\u001b[0mdump\u001b[0m\u001b[0;34m(\u001b[0m\u001b[0mallPhd\u001b[0m\u001b[0;34m,\u001b[0m \u001b[0mfp\u001b[0m\u001b[0;34m)\u001b[0m\u001b[0;34m\u001b[0m\u001b[0;34m\u001b[0m\u001b[0m\n",
      "\u001b[0;31mTypeError\u001b[0m: list indices must be integers or slices, not str"
     ]
    }
   ],
   "source": [
    "#allPhd = {}\n",
    "outJson = \"scraped_result.json\"\n",
    "page = 1\n",
    "base = \"https://scholarshipdb.net/PhD-scholarships-in-United-States?page={}\"\n",
    "while True:\n",
    "    html_text = requests.get(base.format(page), verify=False)\n",
    "    soup = BeautifulSoup(html_text.content, \"html.parser\")\n",
    "    all_links = [link.get('href') for link in soup.find_all(\"a\")]\n",
    "    phd_links = [link for link in all_links if link.endswith('.html')]\n",
    "    if len(phd_links) == 0:\n",
    "        break\n",
    "    print(f'Processing page {page} - found {len(phd_links)} links.')\n",
    "    for link in phd_links:\n",
    "        time.sleep(1)\n",
    "        url = 'https://scholarshipdb.net' + link\n",
    "        html_text_phd = requests.get(url, verify=False)\n",
    "        soup_phd = BeautifulSoup(html_text_phd.content, \"html.parser\")\n",
    "        allPhd[url] = process_description(soup_phd)\n",
    "    with open(outJson, \"w\") as fp:\n",
    "        json.dump(allPhd, fp)\n",
    "    time.sleep(5)\n",
    "    page += 1"
   ]
  },
  {
   "cell_type": "code",
   "execution_count": 139,
   "metadata": {},
   "outputs": [],
   "source": [
    "with open(f\"scraped_result-backup-page{page}.json\", \"w\") as fp:\n",
    "    json.dump(allPhd, fp)"
   ]
  },
  {
   "cell_type": "code",
   "execution_count": 148,
   "metadata": {},
   "outputs": [],
   "source": [
    "Scrped_US_ScholrshipDB = pd.DataFrame(allPhd).T\n",
    "Scrped_US_ScholrshipDB.to_csv('../Data/Scrped_US_ScholrshipDB.csv', index=True)"
   ]
  },
  {
   "cell_type": "code",
   "execution_count": 118,
   "metadata": {},
   "outputs": [
    {
     "name": "stdout",
     "output_type": "stream",
     "text": [
      "https://scholarshipdb.net/scholarships-in-United-States/Ph-D-Project-Mechanobiology-Of-Wound-Regeneration-University-Of-Florida=7iAtU7Zj7RGUYQAlkGUTnw.html\n",
      "dict_keys(['FullText'])\n",
      "https://scholarshipdb.net/scholarships-in-United-States/Ph-D-Position-Available-On-Climate-Change-And-Ecosystem-Services-University-Of-Florida-University-Of-Florida=iJ1EJDRn7RGUYQAlkGUTnw.html\n",
      "dict_keys(['FullText', 'Agency', 'Location', 'Job Category', 'Salary', 'Start Date', 'Last Date to Apply', 'Website', 'Description', 'Qualifications', 'Contact Person', 'Contact eMail'])\n",
      "https://scholarshipdb.net/scholarships-in-United-States/Ph-D-Student-Opportunities-In-Atmospheric-Chemistry-At-The-University-Of-Rochester-University-Of-Rochester=N9WPqvlk7RGUYQAlkGUTnw.html\n",
      "dict_keys(['FullText'])\n",
      "https://scholarshipdb.net/scholarships-in-United-States/Ph-D-And-Ms-Assistantships-In-Forestry-Forest-Science-Ecology-School-Of-Forest-Resources-And-Environmental-Science=GRZy8-pk7RGUYQAlkGUTnw.html\n",
      "dict_keys(['FullText'])\n",
      "https://scholarshipdb.net/scholarships-in-United-States/Ph-D-Project-Biomechanics-Bio-Imaging-And-Nanotechnology-University-Of-Florida=RUNNtLVj7RGUYQAlkGUTnw.html\n",
      "dict_keys(['FullText'])\n",
      "https://scholarshipdb.net/scholarships-in-United-States/Ph-D-Assistantship-Climate-Change-Responses-In-Coastal-Arctic-Wetlands-Utah-State-University=NhoiTd9j7RGUYQAlkGUTnw.html\n",
      "dict_keys(['FullText', 'Agency', 'Location', 'Job Category', 'Salary', 'Start Date', 'Last Date to Apply', 'Website', 'Description', 'Qualifications', 'Contact Person', 'Contact Phone', 'Contact eMail'])\n",
      "https://scholarshipdb.net/scholarships-in-United-States/Graduate-Assistantships-Ms-Ph-D-In-Wetland-Ecology-At-Arkansas-State-University-Jonesboro-Ar-Arkansas-State-University=dg6zF7Nk7RGUYQAlkGUTnw.html\n",
      "dict_keys(['FullText', 'Agency', 'Location', 'Job Category', 'Salary', 'Last Date to Apply', 'Description', 'Qualifications', 'Contact Person', 'Contact Phone', 'Contact eMail'])\n",
      "https://scholarshipdb.net/scholarships-in-United-States/Ph-D-Project-Assured-Autonomy-Control-Systems-University-Of-Florida=9HuKmbVj7RGUYQAlkGUTnw.html\n",
      "dict_keys(['FullText'])\n",
      "https://scholarshipdb.net/scholarships-in-United-States/Ph-D-Project-Characterization-Of-Dynamic-Response-Of-Ultrahard-Ceramics-University-Of-Florida=ttMXybVj7RGUYQAlkGUTnw.html\n",
      "dict_keys(['FullText'])\n",
      "https://scholarshipdb.net/scholarships-in-United-States/Ph-D-Project-Microfluidics-And-Biomechanics-University-Of-Florida=BVcVabZj7RGUYQAlkGUTnw.html\n",
      "dict_keys(['FullText'])\n"
     ]
    }
   ],
   "source": [
    "for phd_url, descriptions in allPhd.items():\n",
    "    print('https://scholarshipdb.net' + phd_url)\n",
    "    print(descriptions.keys())"
   ]
  },
  {
   "cell_type": "code",
   "execution_count": null,
   "metadata": {},
   "outputs": [],
   "source": []
  }
 ],
 "metadata": {
  "kernelspec": {
   "display_name": "Python 3",
   "language": "python",
   "name": "python3"
  },
  "language_info": {
   "codemirror_mode": {
    "name": "ipython",
    "version": 3
   },
   "file_extension": ".py",
   "mimetype": "text/x-python",
   "name": "python",
   "nbconvert_exporter": "python",
   "pygments_lexer": "ipython3",
   "version": "3.8.3"
  }
 },
 "nbformat": 4,
 "nbformat_minor": 5
}
